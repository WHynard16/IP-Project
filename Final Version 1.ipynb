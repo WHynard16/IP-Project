{
 "cells": [
  {
   "cell_type": "markdown",
   "metadata": {},
   "source": [
    "# Final Version 1"
   ]
  },
  {
   "cell_type": "markdown",
   "metadata": {},
   "source": [
    "<b><i> Identified [Aim](#aim) of the project as, see link to later in document"
   ]
  },
  {
   "cell_type": "markdown",
   "metadata": {},
   "source": [
    "<div class=\"alert alert-block alert-info\">\n",
    "<b>Notes:</b><br>Induced Drag: Oswald efficiency number? https://en.wikipedia.org/wiki/Oswald_efficiency_number \n",
    "</div>"
   ]
  },
  {
   "cell_type": "markdown",
   "metadata": {},
   "source": [
    "### External Modules"
   ]
  },
  {
   "cell_type": "code",
   "execution_count": null,
   "metadata": {},
   "outputs": [],
   "source": [
    "import numpy as np\n",
    "import ADRpy as ADR\n",
    "import matplotlib.pyplot as plt\n",
    "from scipy.integrate import solve_ivp"
   ]
  },
  {
   "cell_type": "markdown",
   "metadata": {},
   "source": [
    "### Environment Parameters"
   ]
  },
  {
   "cell_type": "code",
   "execution_count": null,
   "metadata": {},
   "outputs": [],
   "source": [
    "g = 9.81        #Gravitational Constant\n",
    "rho = 1.225\n",
    "\n",
    "# Wind Speed / Direcion\n",
    "#     Headwind +ve\n",
    "#     Cross wind +ve from right\n",
    "w_vel = 0\n",
    "w_deg = 0\n",
    "\n",
    "\n",
    "rway_slope = 0   #Runway slope\n",
    "mu = 0    #Driction Coefficient to Runway Surface\n",
    "\n",
    "\n",
    "\n",
    "#Possibly ovveride given rho (using ISA altitudes)\n",
    "temp_c = 0     #Airfield OAT temperacture in celcius\n",
    "alt_ft = 0     #Airfield (runway) altitude in feet"
   ]
  },
  {
   "cell_type": "markdown",
   "metadata": {},
   "source": [
    "<div class=\"alert alert-block alert-info\">\n",
    "Reasonable approximation of g to 9.81 as still very close to this. Density can be resonably approximated to 1.225 as very close to sea level given in relation. only change to the density will come from the temperature change, so use of ADRpy to calculate is ideal, on standard ISA non-offset (research into the offset and why used should be looked at)\n",
    "</div>"
   ]
  },
  {
   "cell_type": "markdown",
   "metadata": {},
   "source": [
    "### Aircraft Parameters"
   ]
  },
  {
   "cell_type": "markdown",
   "metadata": {},
   "source": [
    "#### Airframe"
   ]
  },
  {
   "cell_type": "code",
   "execution_count": null,
   "metadata": {},
   "outputs": [],
   "source": [
    "m = 0        #Mass\n",
    "Cl_W = 0     #Cl Wing\n",
    "Cl_T = 0     #Cl Tail\n",
    "S = 0        #Wing Area\n",
    "S_T = 0      #Tail Area\n",
    "h_W = 0      #Height of wing above the ground\n",
    "\n",
    "b = 0        #Wingspan\n",
    "c = 0        #Chord length"
   ]
  },
  {
   "cell_type": "code",
   "execution_count": null,
   "metadata": {},
   "outputs": [],
   "source": [
    "#Total Cl for the aircraft\n",
    "Cl = Cl_W + (S_T / S) * Cl_T"
   ]
  },
  {
   "cell_type": "markdown",
   "metadata": {},
   "source": [
    "#### Engine"
   ]
  },
  {
   "cell_type": "code",
   "execution_count": null,
   "metadata": {},
   "outputs": [],
   "source": [
    "T = 0     #Thrust per engine\n",
    "n_e = 2   #Number of engines (evenly distributed per wing (i.e. 2 engines = 1 per wing))"
   ]
  },
  {
   "cell_type": "markdown",
   "metadata": {},
   "source": [
    "### Engine Failure Parameters  (likely not be necessary*)\n",
    "<i>* Due to running a balanced field model, engine failure is automatically used in calculating this, as such the needed for a failure speed isn't required (this will be covered by the calculated V1 speed). `However, the engine that fails is a parameter that will likely be used and will be an input controlled by the overall Monte Carlo analysis`"
   ]
  },
  {
   "cell_type": "code",
   "execution_count": null,
   "metadata": {},
   "outputs": [],
   "source": [
    "V_fail = 0    #Speed at which failure occurs\n",
    "E_Ident = 0   #Engine Number to fail"
   ]
  },
  {
   "cell_type": "markdown",
   "metadata": {},
   "source": [
    "<hr style=\"height:1px;border-width:0;color:black;background-color:black\">"
   ]
  },
  {
   "cell_type": "markdown",
   "metadata": {},
   "source": [
    "### Key Functions"
   ]
  },
  {
   "cell_type": "markdown",
   "metadata": {},
   "source": [
    "- Lift\n",
    "- Drag\n",
    "- Ground Effect\n",
    "- Friction\n",
    "- Induced Drag\n",
    "- phi\n",
    "<br>\n",
    "\n",
    "* ODEs for:\n",
    "    * Velocity\n",
    "    * Distance travelled"
   ]
  },
  {
   "cell_type": "markdown",
   "metadata": {},
   "source": [
    "<div class=\"alert alert-block alert-warning\">\n",
    "Check definition of lift when using total Cl (i.e. when tail is included as well, which S is needed)\n",
    "</div>\n",
    "<div class=\"alert alert-block alert-warning\">\n",
    "Define Drag components seperately (Profile, Induced, Friction etc.) so that ODEs for the different stages can be more easily defined\n",
    "</div>"
   ]
  },
  {
   "cell_type": "code",
   "execution_count": null,
   "metadata": {},
   "outputs": [],
   "source": [
    "def Lift(V):\n",
    "    return 0.5 * rho * V**2 * S * Cl\n",
    "\n",
    "def Drag(V):\n",
    "    return None\n",
    "\n",
    "def D_i():\n",
    "    return None\n",
    "\n",
    "def D_f(V):\n",
    "    R = m*g - Lift(V)\n",
    "    return mu * R"
   ]
  },
  {
   "cell_type": "markdown",
   "metadata": {},
   "source": [
    "`Introduction to Flight pg 320` <br>\n",
    "$\\phi = \\large\\frac{(16 h/b)^{2}}{1+(16 h/b)^{2}}$"
   ]
  },
  {
   "cell_type": "code",
   "execution_count": null,
   "metadata": {},
   "outputs": [],
   "source": [
    "phi = ((16*h/b)**2)/((1+((16*h/b)**2)))"
   ]
  },
  {
   "cell_type": "markdown",
   "metadata": {},
   "source": [
    "<hr style=\"height:1px;border-width:0;color:black;background-color:black\">"
   ]
  },
  {
   "cell_type": "markdown",
   "metadata": {},
   "source": [
    "### Calculating Stall Speed"
   ]
  },
  {
   "cell_type": "markdown",
   "metadata": {},
   "source": [
    "For stall speed, the lift equals the weight of the aircraft. i.e $L=\\frac{1}{2}\\rho V^{2}C_{L}S=W=mg$\n",
    "<br> \n",
    "Rearranging for V: $V= \\sqrt{\\frac{2mg}{\\rho C_{L}S}}$"
   ]
  },
  {
   "cell_type": "code",
   "execution_count": null,
   "metadata": {},
   "outputs": [],
   "source": [
    "V_s = np.sqrt((2*m*g)/(rho))"
   ]
  },
  {
   "cell_type": "markdown",
   "metadata": {},
   "source": [
    "### Calculating Rotation Speed"
   ]
  },
  {
   "cell_type": "code",
   "execution_count": null,
   "metadata": {},
   "outputs": [],
   "source": [
    "V_r = 1.2 * V_s"
   ]
  },
  {
   "cell_type": "code",
   "execution_count": null,
   "metadata": {},
   "outputs": [],
   "source": []
  },
  {
   "cell_type": "code",
   "execution_count": null,
   "metadata": {},
   "outputs": [],
   "source": []
  },
  {
   "cell_type": "markdown",
   "metadata": {},
   "source": [
    "<div class=\"alert alert-block alert-info\">\n",
    "V1 is found by conducting the balanced field investigation for the parameters entered. <br><br> <a id='aim'></a><b> Aim to create a monte carlo analysis of balanced field lengths for a number of different aircraft parameters (should be able to input array for each of the paramters listed under Aircraft Parameters and Environmental Parameters sections above </b>\n",
    "</div>"
   ]
  },
  {
   "cell_type": "markdown",
   "metadata": {},
   "source": [
    "<hr style=\"height:1px;border-width:0;color:black;background-color:black\">"
   ]
  },
  {
   "cell_type": "markdown",
   "metadata": {},
   "source": [
    "### Defining and Solving the ODEs"
   ]
  },
  {
   "cell_type": "code",
   "execution_count": null,
   "metadata": {},
   "outputs": [],
   "source": []
  },
  {
   "cell_type": "code",
   "execution_count": null,
   "metadata": {},
   "outputs": [],
   "source": []
  },
  {
   "cell_type": "code",
   "execution_count": null,
   "metadata": {},
   "outputs": [],
   "source": []
  },
  {
   "cell_type": "code",
   "execution_count": null,
   "metadata": {},
   "outputs": [],
   "source": []
  },
  {
   "cell_type": "code",
   "execution_count": null,
   "metadata": {},
   "outputs": [],
   "source": []
  }
 ],
 "metadata": {
  "kernelspec": {
   "display_name": "Python 3",
   "language": "python",
   "name": "python3"
  },
  "language_info": {
   "codemirror_mode": {
    "name": "ipython",
    "version": 3
   },
   "file_extension": ".py",
   "mimetype": "text/x-python",
   "name": "python",
   "nbconvert_exporter": "python",
   "pygments_lexer": "ipython3",
   "version": "3.7.3"
  }
 },
 "nbformat": 4,
 "nbformat_minor": 2
}
