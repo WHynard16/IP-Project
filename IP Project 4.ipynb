{
 "cells": [
  {
   "cell_type": "markdown",
   "id": "b142c3db",
   "metadata": {},
   "source": [
    "# IP Project"
   ]
  },
  {
   "cell_type": "code",
   "execution_count": 1,
   "id": "a84fee8b",
   "metadata": {},
   "outputs": [],
   "source": [
    "import pandas as pd\n",
    "import matplotlib.pyplot as plt\n",
    "\n",
    "from scipy.integrate import solve_ivp\n",
    "import numpy as np\n",
    "\n",
    "plt.rcParams[\"figure.figsize\"]=15,10 #Set plot size\n",
    "plt.rcParams.update({'font.size': 16}) #set plot size font\n",
    "plt.rcParams.update({\"axes.grid\" : True, \"grid.color\": \"lightgrey\"}) #Add grid lines to plot"
   ]
  },
  {
   "cell_type": "markdown",
   "id": "c799e44f",
   "metadata": {},
   "source": [
    "### Useful Functions"
   ]
  },
  {
   "cell_type": "code",
   "execution_count": 2,
   "id": "bd01c116",
   "metadata": {},
   "outputs": [],
   "source": [
    "def Knots(MS):\n",
    "    return MS / 0.5144\n",
    "\n",
    "def MS(Knots):\n",
    "    return Knots * 0.5144"
   ]
  },
  {
   "cell_type": "markdown",
   "id": "d37809c5",
   "metadata": {},
   "source": [
    "### Aircraft Parameters"
   ]
  },
  {
   "cell_type": "code",
   "execution_count": 3,
   "id": "5e9bc01d",
   "metadata": {},
   "outputs": [],
   "source": [
    "mass = 79000\n",
    "AbortSpeed = 120 #In Knots\n",
    "\n",
    "T1 = 106.8 * 1000 #Engine Thrust A320-200 with 2* CFM International LEAP 1A at T/O power (106.80 kN)    ~~TBC~~\n",
    "T2 = 106.8 * 1000\n",
    "\n",
    "Decel = 6 #Deceleration of Max Brakes 6ms-2  ~~TBC~~"
   ]
  },
  {
   "cell_type": "markdown",
   "id": "43e82df9",
   "metadata": {},
   "source": [
    "### Other Parameters"
   ]
  },
  {
   "cell_type": "code",
   "execution_count": 4,
   "id": "90744ef2",
   "metadata": {},
   "outputs": [],
   "source": [
    "g = 9.81"
   ]
  },
  {
   "cell_type": "code",
   "execution_count": 5,
   "id": "2b157352",
   "metadata": {},
   "outputs": [],
   "source": [
    "V = 0\n",
    "t = 0\n",
    "t_step = 1e-3"
   ]
  },
  {
   "cell_type": "markdown",
   "id": "10a9a035",
   "metadata": {},
   "source": [
    "## Ground Roll"
   ]
  },
  {
   "cell_type": "markdown",
   "id": "f98ed713",
   "metadata": {},
   "source": [
    "Accelerating along Runway with CONSTANT Thrust\n"
   ]
  },
  {
   "cell_type": "code",
   "execution_count": 6,
   "id": "82225819",
   "metadata": {},
   "outputs": [],
   "source": [
    "L = 0  # Ground Roll (Zero Lift) {for now}\n",
    "D_i = 0  # Zero Lift -> Drag = 0   {for now}\n",
    "\n",
    "mu = 0  # Zero Friction {for now}\n",
    "\n",
    "W = 9.81 * mass\n",
    "\n",
    "D_f = mu * (L - W)    #Friction Drag\n",
    "\n",
    "\n",
    "# N2 : F = m a\n",
    "#    : F = m dV/dt\n",
    "#    : dV/dt = F/m\n",
    "\n",
    "def dV(V,t):\n",
    "    return (T1 + T2 - D_i - D_f)/mass\n"
   ]
  }
 ],
 "metadata": {
  "kernelspec": {
   "display_name": "Python 3 (ipykernel)",
   "language": "python",
   "name": "python3"
  },
  "language_info": {
   "codemirror_mode": {
    "name": "ipython",
    "version": 3
   },
   "file_extension": ".py",
   "mimetype": "text/x-python",
   "name": "python",
   "nbconvert_exporter": "python",
   "pygments_lexer": "ipython3",
   "version": "3.8.8"
  }
 },
 "nbformat": 4,
 "nbformat_minor": 5
}
