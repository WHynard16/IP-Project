{
 "cells": [
  {
   "cell_type": "markdown",
   "metadata": {},
   "source": [
    "# Final Version 1a"
   ]
  },
  {
   "cell_type": "markdown",
   "metadata": {},
   "source": [
    "<b><i> Identified [Aim](#aim) of the project as, see link to later in document"
   ]
  },
  {
   "cell_type": "markdown",
   "metadata": {},
   "source": [
    "<div class=\"alert alert-block alert-info\">\n",
    "<b>Notes:</b><br>Induced Drag: Oswald efficiency number? https://en.wikipedia.org/wiki/Oswald_efficiency_number \n",
    "</div>"
   ]
  },
  {
   "cell_type": "markdown",
   "metadata": {},
   "source": [
    "### External Modules"
   ]
  },
  {
   "cell_type": "code",
   "execution_count": 4,
   "metadata": {},
   "outputs": [],
   "source": [
    "import numpy as np\n",
    "import ADRpy as ADR\n",
    "import matplotlib.pyplot as plt\n",
    "from scipy.integrate import solve_ivp"
   ]
  },
  {
   "cell_type": "markdown",
   "metadata": {},
   "source": [
    "### Environment Parameters"
   ]
  },
  {
   "cell_type": "code",
   "execution_count": 5,
   "metadata": {},
   "outputs": [],
   "source": [
    "g = 9.81        #Gravitational Constant\n",
    "rho = 1.225\n",
    "\n",
    "# Wind Speed / Direcion\n",
    "#     Headwind +ve\n",
    "#     Cross wind +ve from right\n",
    "w_vel = 0\n",
    "w_deg = 0\n",
    "\n",
    "\n",
    "rway_slope = 0   #Runway slope\n",
    "mu = 0    #Driction Coefficient to Runway Surface\n",
    "\n",
    "\n",
    "\n",
    "#Possibly ovveride given rho (using ISA altitudes)\n",
    "temp_c = 0     #Airfield OAT temperacture in celcius\n",
    "alt_ft = 0     #Airfield (runway) altitude in feet"
   ]
  },
  {
   "cell_type": "markdown",
   "metadata": {},
   "source": [
    "<div class=\"alert alert-block alert-info\">\n",
    "Reasonable approximation of g to 9.81 as still very close to this. Density can be resonably approximated to 1.225 as very close to sea level given in relation. only change to the density will come from the temperature change, so use of ADRpy to calculate is ideal, on standard ISA non-offset (research into the offset and why used should be looked at)\n",
    "</div>"
   ]
  },
  {
   "cell_type": "markdown",
   "metadata": {},
   "source": [
    "### Aircraft Parameters"
   ]
  },
  {
   "cell_type": "markdown",
   "metadata": {},
   "source": [
    "#### Airframe"
   ]
  },
  {
   "cell_type": "code",
   "execution_count": 6,
   "metadata": {},
   "outputs": [],
   "source": [
    "m = 79000        #Mass [kg]\n",
    "Cl_W = 0     #Cl Wing\n",
    "Cl_T = 0     #Cl Tail\n",
    "S = 0        #Wing Area\n",
    "S_T = 0      #Tail Area\n",
    "h_W = 0      #Height of wing above the ground\n",
    "\n",
    "b = 0        #Wingspan\n",
    "c = 0        #Chord length"
   ]
  },
  {
   "cell_type": "code",
   "execution_count": 7,
   "metadata": {},
   "outputs": [],
   "source": [
    "#Total Cl for the aircraft\n",
    "#Cl = Cl_W + (S_T / S) * Cl_T\n",
    "Cl = 0"
   ]
  },
  {
   "cell_type": "markdown",
   "metadata": {},
   "source": [
    "#### Engine"
   ]
  },
  {
   "cell_type": "code",
   "execution_count": 8,
   "metadata": {},
   "outputs": [],
   "source": [
    "T = 106.8 * 1000    #Thrust per engine\n",
    "n_e = 2   #Number of engines (evenly distributed per wing (i.e. 2 engines = 1 per wing))"
   ]
  },
  {
   "cell_type": "markdown",
   "metadata": {},
   "source": [
    "### Engine Failure Parameters  (likely not be necessary*)\n",
    "<i>* Due to running a balanced field model, engine failure is automatically used in calculating this, as such the needed for a failure speed isn't required (this will be covered by the calculated V1 speed). `However, the engine that fails is a parameter that will likely be used and will be an input controlled by the overall Monte Carlo analysis`"
   ]
  },
  {
   "cell_type": "code",
   "execution_count": 9,
   "metadata": {},
   "outputs": [],
   "source": [
    "V_fail = 0    #Speed at which failure occurs\n",
    "E_Ident = 0   #Engine Number to fail"
   ]
  },
  {
   "cell_type": "markdown",
   "metadata": {},
   "source": [
    "<hr style=\"height:1px;border-width:0;color:black;background-color:black\">"
   ]
  },
  {
   "cell_type": "markdown",
   "metadata": {},
   "source": [
    "### Key Functions"
   ]
  },
  {
   "cell_type": "markdown",
   "metadata": {},
   "source": [
    "- Lift\n",
    "- Drag\n",
    "- Ground Effect\n",
    "- Friction\n",
    "- Induced Drag\n",
    "- phi\n",
    "<br>\n",
    "\n",
    "* ODEs for:\n",
    "    * Velocity\n",
    "    * Distance travelled"
   ]
  },
  {
   "cell_type": "markdown",
   "metadata": {},
   "source": [
    "<div class=\"alert alert-block alert-warning\">\n",
    "Check definition of lift when using total Cl (i.e. when tail is included as well, which S is needed)\n",
    "</div>\n",
    "<div class=\"alert alert-block alert-warning\">\n",
    "Define Drag components seperately (Profile, Induced, Friction etc.) so that ODEs for the different stages can be more easily defined\n",
    "</div>"
   ]
  },
  {
   "cell_type": "code",
   "execution_count": 10,
   "metadata": {},
   "outputs": [],
   "source": [
    "def Lift(V):\n",
    "    return 0.5 * rho * V**2 * S * Cl\n",
    "\n",
    "def Drag(V):\n",
    "    return None\n",
    "\n",
    "def D_i(V):\n",
    "    return 0\n",
    "\n",
    "def D_f(V):\n",
    "    R = m*g - Lift(V)\n",
    "    return mu * R"
   ]
  },
  {
   "cell_type": "markdown",
   "metadata": {},
   "source": [
    "`Introduction to Flight pg 320` <br>\n",
    "$\\phi = \\large\\frac{(16 h/b)^{2}}{1+(16 h/b)^{2}}$"
   ]
  },
  {
   "cell_type": "code",
   "execution_count": 11,
   "metadata": {},
   "outputs": [
    {
     "ename": "ZeroDivisionError",
     "evalue": "division by zero",
     "output_type": "error",
     "traceback": [
      "\u001b[1;31m---------------------------------------------------------------------------\u001b[0m",
      "\u001b[1;31mZeroDivisionError\u001b[0m                         Traceback (most recent call last)",
      "\u001b[1;32m<ipython-input-11-828663fa21d5>\u001b[0m in \u001b[0;36m<module>\u001b[1;34m\u001b[0m\n\u001b[1;32m----> 1\u001b[1;33m \u001b[0mphi\u001b[0m \u001b[1;33m=\u001b[0m \u001b[1;33m(\u001b[0m\u001b[1;33m(\u001b[0m\u001b[1;36m16\u001b[0m\u001b[1;33m*\u001b[0m\u001b[0mh_W\u001b[0m\u001b[1;33m/\u001b[0m\u001b[0mb\u001b[0m\u001b[1;33m)\u001b[0m\u001b[1;33m**\u001b[0m\u001b[1;36m2\u001b[0m\u001b[1;33m)\u001b[0m\u001b[1;33m/\u001b[0m\u001b[1;33m(\u001b[0m\u001b[1;33m(\u001b[0m\u001b[1;36m1\u001b[0m\u001b[1;33m+\u001b[0m\u001b[1;33m(\u001b[0m\u001b[1;33m(\u001b[0m\u001b[1;36m16\u001b[0m\u001b[1;33m*\u001b[0m\u001b[0mh_W\u001b[0m\u001b[1;33m/\u001b[0m\u001b[0mb\u001b[0m\u001b[1;33m)\u001b[0m\u001b[1;33m**\u001b[0m\u001b[1;36m2\u001b[0m\u001b[1;33m)\u001b[0m\u001b[1;33m)\u001b[0m\u001b[1;33m)\u001b[0m\u001b[1;33m\u001b[0m\u001b[1;33m\u001b[0m\u001b[0m\n\u001b[0m",
      "\u001b[1;31mZeroDivisionError\u001b[0m: division by zero"
     ]
    }
   ],
   "source": [
    "phi = ((16*h_W/b)**2)/((1+((16*h_W/b)**2)))"
   ]
  },
  {
   "cell_type": "markdown",
   "metadata": {},
   "source": [
    "<hr style=\"height:1px;border-width:0;color:black;background-color:black\">"
   ]
  },
  {
   "cell_type": "markdown",
   "metadata": {},
   "source": [
    "### Calculating Stall Speed"
   ]
  },
  {
   "cell_type": "markdown",
   "metadata": {},
   "source": [
    "For stall speed, the lift equals the weight of the aircraft. i.e $L=\\frac{1}{2}\\rho V^{2}C_{L}S=W=mg$\n",
    "<br> \n",
    "Rearranging for V: $V= \\sqrt{\\frac{2mg}{\\rho C_{L}S}}$"
   ]
  },
  {
   "cell_type": "code",
   "execution_count": 12,
   "metadata": {},
   "outputs": [],
   "source": [
    "V_s = np.sqrt((2*m*g)/(rho))"
   ]
  },
  {
   "cell_type": "markdown",
   "metadata": {},
   "source": [
    "### Calculating Rotation Speed"
   ]
  },
  {
   "cell_type": "code",
   "execution_count": 13,
   "metadata": {},
   "outputs": [],
   "source": [
    "V_r = 1.2 * V_s"
   ]
  },
  {
   "cell_type": "code",
   "execution_count": null,
   "metadata": {},
   "outputs": [],
   "source": []
  },
  {
   "cell_type": "code",
   "execution_count": null,
   "metadata": {},
   "outputs": [],
   "source": []
  },
  {
   "cell_type": "markdown",
   "metadata": {},
   "source": [
    "<div class=\"alert alert-block alert-info\">\n",
    "V1 is found by conducting the balanced field investigation for the parameters entered. <br><br> <a id='aim'></a><b> Aim to create a monte carlo analysis of balanced field lengths under enf=gine failures for a number of different aircraft parameters (should be able to input array for each of the paramters listed under Aircraft Parameters and Environmental Parameters sections above </b>\n",
    "</div>"
   ]
  },
  {
   "cell_type": "markdown",
   "metadata": {},
   "source": [
    "<hr style=\"height:1px;border-width:0;color:black;background-color:black\">"
   ]
  },
  {
   "cell_type": "markdown",
   "metadata": {},
   "source": [
    "### Defining and Solving the ODEs"
   ]
  },
  {
   "cell_type": "markdown",
   "metadata": {},
   "source": [
    "<div class=\"alert alert-block alert-info\">\n",
    "    <b>Assume that the angle of the engine thrust is EQUAL to the AoA of the wing, i.e. engine parallel to wing</b>\n",
    "</div>"
   ]
  },
  {
   "cell_type": "code",
   "execution_count": 14,
   "metadata": {},
   "outputs": [],
   "source": [
    "Failed_Engine = \"N\" #N - No failure, #L{0} - Left Failure & how many, #R{0} - Right Failure & how many"
   ]
  },
  {
   "cell_type": "code",
   "execution_count": 15,
   "metadata": {},
   "outputs": [
    {
     "data": {
      "text/plain": [
       "(106800.0, 106800.0)"
      ]
     },
     "execution_count": 15,
     "metadata": {},
     "output_type": "execute_result"
    }
   ],
   "source": [
    "#Total engine thrust (per side?)\n",
    "#T_L = (n_e / 2) * T\n",
    "#T_R = (n_e / 2) * T\n",
    "\n",
    "Failed_Engine = Failed_Engine.upper()\n",
    "\n",
    "if Failed_Engine == \"N\":\n",
    "    T_L = T_R = (n_e / 2) * T\n",
    "    \n",
    "elif 'L' in Failed_Engine:\n",
    "    e_p = n_e / 2\n",
    "    T_L = (e_p - int(Failed_Engine[1:])) * T\n",
    "    T_R = (n_e / 2) * T\n",
    "else:\n",
    "    e_p = n_e / 2\n",
    "    T_L = (n_e / 2) * T\n",
    "    T_R = (e_p - int(Failed_Engine[1:])) * T\n",
    "T_L, T_R"
   ]
  },
  {
   "cell_type": "code",
   "execution_count": null,
   "metadata": {},
   "outputs": [],
   "source": [
    "t_a = 25\n",
    "\n",
    "def dV(t,V):\n",
    "    if t <= t_a:\n",
    "        #return (T_L + T_R - D_i - D_f)/m\n",
    "        return (T_L + T_R - D_i(V) - D_f(V))/m\n",
    "    else:\n",
    "        return -6\n",
    "    \n",
    "def f(t,y):\n",
    "    S = y[0]\n",
    "    V = y[1]\n",
    "    dSdt = V\n",
    "    dVdt = dV(t,V)\n",
    "    \n",
    "    return np.array([dSdt,dVdt])\n",
    "\n",
    "def full_stop(t, y): return y[0]\n",
    "full_stop.terminal = True\n",
    "full_stop.direction = -1"
   ]
  },
  {
   "cell_type": "code",
   "execution_count": null,
   "metadata": {},
   "outputs": [],
   "source": [
    "%%time\n",
    "V1 = solve_ivp(dV,[0,40],[0],rtol=1e-9,events=full_stop)"
   ]
  },
  {
   "cell_type": "code",
   "execution_count": null,
   "metadata": {},
   "outputs": [],
   "source": [
    "#1.t, V1.y[0], V1.t_events\n"
   ]
  },
  {
   "cell_type": "code",
   "execution_count": null,
   "metadata": {},
   "outputs": [],
   "source": [
    "%%time\n",
    "y0=np.array([0,0])\n",
    "\n",
    "S = solve_ivp(f,[0,V1.t_events[0]],y0,rtol=1e-9,max_step=1e-3,method='LSODA')"
   ]
  },
  {
   "cell_type": "code",
   "execution_count": null,
   "metadata": {},
   "outputs": [],
   "source": [
    "plt.plot(V1.t,V1.y[0])"
   ]
  },
  {
   "cell_type": "code",
   "execution_count": null,
   "metadata": {},
   "outputs": [],
   "source": [
    "plt.plot(S.t,S.y[0])"
   ]
  },
  {
   "cell_type": "markdown",
   "metadata": {},
   "source": [
    "- Acc-Stop\n",
    "    - All Engines\n",
    "    - Engine Failure\n",
    "- Take-off Go\n",
    "    - All Engines\n",
    "    - Engine Failure"
   ]
  },
  {
   "cell_type": "code",
   "execution_count": 75,
   "metadata": {},
   "outputs": [],
   "source": [
    "t_a = 50\n",
    "V_a = 150 *0.5144\n",
    "\n",
    "def dV(t,V):\n",
    "    if t <= t_a:\n",
    "        #return (T_L + T_R - D_i - D_f)/m\n",
    "        return (T_L + T_R - D_i(V) - D_f(V))/m\n",
    "    else:\n",
    "        return -0.5*9.81\n",
    "    \n",
    "def f(t,y):\n",
    "    S = y[0]\n",
    "    V = y[1]\n",
    "    dSdt = V\n",
    "    dVdt = dV(t,V)\n",
    "    \n",
    "    return np.array([dSdt,dVdt])\n",
    "\n",
    "def full_stop(t, y): return y[0]\n",
    "full_stop.terminal = True\n",
    "full_stop.direction = -1\n",
    "\n",
    "def AbortSpeed(t,y): return y[0] - V_a\n",
    "AbortSpeed.terminal = False\n",
    "AbortSpeed.direction = 1"
   ]
  },
  {
   "cell_type": "code",
   "execution_count": 76,
   "metadata": {},
   "outputs": [
    {
     "name": "stdout",
     "output_type": "stream",
     "text": [
      "Wall time: 2.99 ms\n"
     ]
    }
   ],
   "source": [
    "%%time\n",
    "V1 = solve_ivp(dV,[0,40],[0],rtol=1e-9,events=[full_stop,AbortSpeed])"
   ]
  },
  {
   "cell_type": "code",
   "execution_count": 77,
   "metadata": {},
   "outputs": [
    {
     "data": {
      "text/plain": [
       "[<matplotlib.lines.Line2D at 0x23be4d50978>]"
      ]
     },
     "execution_count": 77,
     "metadata": {},
     "output_type": "execute_result"
    },
    {
     "data": {
      "image/png": "[encoded data removed]",
      "text/plain": [
       "<Figure size 432x288 with 1 Axes>"
      ]
     },
     "metadata": {
      "needs_background": "light"
     },
     "output_type": "display_data"
    }
   ],
   "source": [
    "plt.plot(V1.t,V1.y[0])"
   ]
  },
  {
   "cell_type": "code",
   "execution_count": 78,
   "metadata": {},
   "outputs": [
    {
     "data": {
      "text/plain": [
       "[array([], dtype=float64), array([28.53764045])]"
      ]
     },
     "execution_count": 78,
     "metadata": {},
     "output_type": "execute_result"
    }
   ],
   "source": [
    "V1.t_events"
   ]
  },
  {
   "cell_type": "code",
   "execution_count": 79,
   "metadata": {},
   "outputs": [
    {
     "name": "stdout",
     "output_type": "stream",
     "text": [
      "Wall time: 6.98 ms\n"
     ]
    }
   ],
   "source": [
    "%%time\n",
    "t_a = V1.t_events[1][0]\n",
    "t_a\n",
    "V_1a = solve_ivp(dV,[0,80],[0],rtol=1e-9,events=[full_stop,AbortSpeed])"
   ]
  },
  {
   "cell_type": "code",
   "execution_count": 80,
   "metadata": {},
   "outputs": [
    {
     "data": {
      "text/plain": [
       "[<matplotlib.lines.Line2D at 0x23be4db3ba8>]"
      ]
     },
     "execution_count": 80,
     "metadata": {},
     "output_type": "execute_result"
    },
    {
     "data": {
      "image/png": "[encoded data removed]",
      "text/plain": [
       "<Figure size 432x288 with 1 Axes>"
      ]
     },
     "metadata": {
      "needs_background": "light"
     },
     "output_type": "display_data"
    }
   ],
   "source": [
    "plt.plot(V_1a.t,V_1a.y[0])"
   ]
  },
  {
   "cell_type": "code",
   "execution_count": 81,
   "metadata": {},
   "outputs": [
    {
     "data": {
      "text/plain": [
       "[array([44.26852696]), array([], dtype=float64)]"
      ]
     },
     "execution_count": 81,
     "metadata": {},
     "output_type": "execute_result"
    }
   ],
   "source": [
    "V_1a.t_events"
   ]
  },
  {
   "cell_type": "markdown",
   "metadata": {},
   "source": [
    "Initial guess, refine and run again"
   ]
  },
  {
   "cell_type": "markdown",
   "metadata": {},
   "source": [
    "## Trying another method"
   ]
  },
  {
   "cell_type": "code",
   "execution_count": 202,
   "metadata": {},
   "outputs": [],
   "source": [
    "t_a = 30 #Initial guess\n",
    "V_a = 25 #Actual abort speed\n",
    "\n",
    "def dV_accel(t,V):\n",
    "    return (T_L + T_R - D_i(V) - D_f(V))/m\n",
    "    \n",
    "def dV_brake(t,V):\n",
    "    return -0.5*9.81\n",
    "\n",
    "dV = dV_accel\n",
    "\n",
    "def f(t,y):\n",
    "    S = y[0]\n",
    "    V = y[1]\n",
    "    dSdt = V\n",
    "    dVdt = dV(t,V)\n",
    "    \n",
    "    return np.array([dSdt,dVdt])\n",
    "\n",
    "def full_stop(t, y): return y[0]\n",
    "full_stop.terminal = True\n",
    "full_stop.direction = -1\n",
    "\n",
    "def AbortSpeed(t,y):\n",
    "    if y[0] > V_a:\n",
    "        dV = dV_brake\n",
    "    return y[0] - V_a\n",
    "AbortSpeed.terminal = True\n",
    "AbortSpeed.direction = 0"
   ]
  },
  {
   "cell_type": "code",
   "execution_count": 203,
   "metadata": {},
   "outputs": [
    {
     "name": "stdout",
     "output_type": "stream",
     "text": [
      "Wall time: 5.17 s\n"
     ]
    }
   ],
   "source": [
    "%%time\n",
    "V1b = solve_ivp(dV_accel,[0,50],[0],rtol=1e-9,max_step=1e-3,events=[AbortSpeed])\n",
    "V1b1 = solve_ivp(dV_brake,[V1b.t[-1],50],[V1b.y[0][-1]],rtol=1e-9,max_step=1e-3,events=[full_stop])"
   ]
  },
  {
   "cell_type": "code",
   "execution_count": 204,
   "metadata": {},
   "outputs": [
    {
     "data": {
      "text/plain": [
       "[<matplotlib.lines.Line2D at 0x23b809b97b8>]"
      ]
     },
     "execution_count": 204,
     "metadata": {},
     "output_type": "execute_result"
    },
    {
     "data": {
      "image/png": "[encoded data removed]",
      "text/plain": [
       "<Figure size 432x288 with 1 Axes>"
      ]
     },
     "metadata": {
      "needs_background": "light"
     },
     "output_type": "display_data"
    }
   ],
   "source": [
    "plt.plot(V1b.t,V1b.y[0])\n",
    "plt.plot(V1b1.t,V1b1.y[0])"
   ]
  },
  {
   "cell_type": "code",
   "execution_count": 205,
   "metadata": {},
   "outputs": [
    {
     "data": {
      "text/plain": [
       "[array([9.24625468])]"
      ]
     },
     "execution_count": 205,
     "metadata": {},
     "output_type": "execute_result"
    }
   ],
   "source": [
    "V1b.t_events"
   ]
  },
  {
   "cell_type": "code",
   "execution_count": 206,
   "metadata": {},
   "outputs": [
    {
     "data": {
      "text/plain": [
       "24.999999999999996"
      ]
     },
     "execution_count": 206,
     "metadata": {},
     "output_type": "execute_result"
    }
   ],
   "source": [
    "np.max(V1b.y[0])"
   ]
  },
  {
   "cell_type": "code",
   "execution_count": 207,
   "metadata": {},
   "outputs": [],
   "source": [
    "sol = [[],[]]"
   ]
  },
  {
   "cell_type": "code",
   "execution_count": 208,
   "metadata": {},
   "outputs": [],
   "source": [
    "sol[0] = np.concatenate([V1b.t,V1b1.t])\n",
    "sol[1] = np.concatenate([V1b.y[0],V1b1.y[0]])"
   ]
  },
  {
   "cell_type": "code",
   "execution_count": 209,
   "metadata": {},
   "outputs": [
    {
     "data": {
      "text/plain": [
       "[<matplotlib.lines.Line2D at 0x23b809103c8>]"
      ]
     },
     "execution_count": 209,
     "metadata": {},
     "output_type": "execute_result"
    },
    {
     "data": {
      "image/png": "[encoded data removed]",
      "text/plain": [
       "<Figure size 432x288 with 1 Axes>"
      ]
     },
     "metadata": {
      "needs_background": "light"
     },
     "output_type": "display_data"
    }
   ],
   "source": [
    "plt.plot(sol[0],sol[1])"
   ]
  },
  {
   "cell_type": "code",
   "execution_count": null,
   "metadata": {},
   "outputs": [],
   "source": []
  }
 ],
 "metadata": {
  "kernelspec": {
   "display_name": "Python 3 (ipykernel)",
   "language": "python",
   "name": "python3"
  },
  "language_info": {
   "codemirror_mode": {
    "name": "ipython",
    "version": 3
   },
   "file_extension": ".py",
   "mimetype": "text/x-python",
   "name": "python",
   "nbconvert_exporter": "python",
   "pygments_lexer": "ipython3",
   "version": "3.8.8"
  }
 },
 "nbformat": 4,
 "nbformat_minor": 2
}
