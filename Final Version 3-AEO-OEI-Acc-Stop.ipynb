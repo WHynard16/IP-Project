{
 "cells": [
  {
   "cell_type": "markdown",
   "metadata": {},
   "source": [
    "# Final Version (AEO/OEI Acc-Stop)"
   ]
  },
  {
   "cell_type": "markdown",
   "metadata": {},
   "source": [
    "### External Modules"
   ]
  },
  {
   "cell_type": "code",
   "execution_count": 1,
   "metadata": {},
   "outputs": [],
   "source": [
    "import numpy as np\n",
    "import pandas as pd\n",
    "import ADRpy as ADR\n",
    "import matplotlib.pyplot as plt\n",
    "from scipy.integrate import solve_ivp\n",
    "from scipy.optimize import newton\n",
    "from ADRpy import atmospheres as at"
   ]
  },
  {
   "cell_type": "code",
   "execution_count": 2,
   "metadata": {},
   "outputs": [],
   "source": [
    "plt.rcParams[\"figure.figsize\"]=15,10 #Set plot size\n",
    "plt.rcParams.update({'font.size': 16}) #set plot size font\n",
    "plt.rcParams.update({\"axes.grid\" : True, \"grid.color\": \"lightgrey\"}) #Add grid lines to plot"
   ]
  },
  {
   "cell_type": "markdown",
   "metadata": {},
   "source": [
    "### Conversions"
   ]
  },
  {
   "cell_type": "code",
   "execution_count": 3,
   "metadata": {},
   "outputs": [],
   "source": [
    "def Knots(MS):\n",
    "    return MS / 0.5144\n",
    "\n",
    "def MS(Knots):\n",
    "    return Knots * 0.5144\n",
    "\n",
    "def radian(degree):\n",
    "    return degree * np.pi/180\n",
    "\n",
    "def Feet2M(feet):\n",
    "    return feet / 3.281"
   ]
  },
  {
   "cell_type": "markdown",
   "metadata": {},
   "source": [
    "### Environment Parameters"
   ]
  },
  {
   "cell_type": "code",
   "execution_count": 4,
   "metadata": {},
   "outputs": [],
   "source": [
    "g = 9.81        #Gravitational Constant\n",
    "rho = 1.225\n",
    "\n",
    "# Wind Speed / Direcion\n",
    "#     Headwind +ve\n",
    "#     Cross wind +ve from right\n",
    "w_vel = 0\n",
    "w_deg = 0\n",
    "\n",
    "mu = 0.05    #Driction Coefficient to Runway Surface\n",
    "\n",
    "temp_c = 15     #Airfield OAT temperacture in celcius\n",
    "alt_ft = 66     #Airfield (runway) altitude in feet\n",
    "RunwayLength = 1650"
   ]
  },
  {
   "cell_type": "code",
   "execution_count": 5,
   "metadata": {},
   "outputs": [],
   "source": [
    "# Vw = MS(5) #5 kt headwind\n",
    "Vw = 5"
   ]
  },
  {
   "cell_type": "markdown",
   "metadata": {},
   "source": [
    "#### Calculate $\\rho$ at Airfield Temp and Altitude"
   ]
  },
  {
   "cell_type": "code",
   "execution_count": 6,
   "metadata": {},
   "outputs": [],
   "source": [
    "def sealevel(t):\n",
    "    isa_offset = at.Atmosphere(offset_deg=t)\n",
    "    return isa_offset.airtemp_c(Feet2M(alt_ft)) - temp_c"
   ]
  },
  {
   "cell_type": "code",
   "execution_count": 7,
   "metadata": {},
   "outputs": [
    {
     "data": {
      "text/plain": [
       "1.2220811339457178"
      ]
     },
     "execution_count": 7,
     "metadata": {},
     "output_type": "execute_result"
    }
   ],
   "source": [
    "isa_offset = at.Atmosphere(offset_deg=newton(sealevel,0))\n",
    "rho = isa_offset.airdens_kgpm3(Feet2M(alt_ft))\n",
    "rho"
   ]
  },
  {
   "cell_type": "markdown",
   "metadata": {},
   "source": [
    "### Aircraft Parameters"
   ]
  },
  {
   "cell_type": "markdown",
   "metadata": {},
   "source": [
    "#### Airframe"
   ]
  },
  {
   "cell_type": "code",
   "execution_count": 8,
   "metadata": {},
   "outputs": [],
   "source": [
    "m = 78000        #Mass\n",
    "\n",
    "S = 122.6        #Wing Area\n",
    "h_W = 3.38      #Height of wing above the ground\n",
    "\n",
    "b = 34.1       #Wingspan\n",
    "\n",
    "c = S/b       #Chord length"
   ]
  },
  {
   "cell_type": "code",
   "execution_count": 9,
   "metadata": {},
   "outputs": [],
   "source": [
    "A = (b**2)/S\n",
    "e = 0.85\n",
    "a0 = 2*np.pi\n",
    "alpha_0L = - radian(2)\n",
    "\n",
    "def CL(alpha):\n",
    "    alpha1 = radian(alpha)\n",
    "    return a0 * ((np.pi*A*e)/(np.pi*A*e + a0)) * (alpha1 - alpha_0L)\n",
    "\n",
    "#def Cl(alpha):\n",
    "#    a0 = 2*np.pi\n",
    "#    alpha0 = radian(2)\n",
    "#    \n",
    "#    return a0*(alpha + alpha0/57.3)"
   ]
  },
  {
   "cell_type": "code",
   "execution_count": 10,
   "metadata": {},
   "outputs": [],
   "source": [
    "CD0 = 0.02"
   ]
  },
  {
   "cell_type": "markdown",
   "metadata": {},
   "source": [
    "#### Engine Thrust"
   ]
  },
  {
   "cell_type": "code",
   "execution_count": 11,
   "metadata": {},
   "outputs": [],
   "source": [
    "T_L = 120.6 * 1e3  \n",
    "T_R = 120.6 * 1e3   "
   ]
  },
  {
   "cell_type": "markdown",
   "metadata": {},
   "source": [
    "<hr style=\"height:1px;border-width:0;color:black;background-color:black\">"
   ]
  },
  {
   "cell_type": "markdown",
   "metadata": {},
   "source": [
    "### Key Functions"
   ]
  },
  {
   "cell_type": "markdown",
   "metadata": {},
   "source": [
    "- Lift\n",
    "- Drag\n",
    "- Ground Effect\n",
    "- Friction\n",
    "- Induced Drag\n",
    "- phi"
   ]
  },
  {
   "cell_type": "code",
   "execution_count": 12,
   "metadata": {},
   "outputs": [],
   "source": [
    "def Lift(V,alpha):\n",
    "    return 0.5 * rho * V**2 * S * CL(alpha)\n",
    "\n",
    "def Drag(V,alpha):\n",
    "    return None\n",
    "\n",
    "def D(V,h,alpha):\n",
    "    return 0.5 * rho * V**2 * S * (CD0 + phi(h) * (CL(alpha)**2)/(np.pi * e * A))\n",
    "\n",
    "def D_f(V,alpha):\n",
    "    R = m*g - Lift(V,alpha)\n",
    "    return mu * R\n",
    "\n",
    "def phi(h_alt):\n",
    "    h = h_alt + h_W\n",
    "    phi = ((16*h/b)**2)/((1+((16*h/b)**2)))\n",
    "    if phi > 1:\n",
    "        phi = 1\n",
    "    return phi"
   ]
  },
  {
   "cell_type": "markdown",
   "metadata": {},
   "source": [
    "<hr style=\"height:1px;border-width:0;color:black;background-color:black\">"
   ]
  },
  {
   "cell_type": "markdown",
   "metadata": {},
   "source": [
    "### Calculating Stall Speed"
   ]
  },
  {
   "cell_type": "markdown",
   "metadata": {},
   "source": [
    "For stall speed, the lift equals the weight of the aircraft. i.e $L=\\frac{1}{2}\\rho V^{2}C_{L}S=W=mg$\n",
    "<br> \n",
    "Rearranging for V: $V= \\sqrt{\\frac{2mg}{\\rho C_{L}S}}$"
   ]
  },
  {
   "cell_type": "code",
   "execution_count": 13,
   "metadata": {},
   "outputs": [
    {
     "data": {
      "text/plain": [
       "177.14514998787863"
      ]
     },
     "execution_count": 13,
     "metadata": {},
     "output_type": "execute_result"
    }
   ],
   "source": [
    "CL_max = CL(12)\n",
    "V_s = np.sqrt((2*m*g)/(rho * S * CL_max))\n",
    "Knots(V_s)"
   ]
  },
  {
   "cell_type": "markdown",
   "metadata": {},
   "source": [
    "### Calculating Rotation Speed"
   ]
  },
  {
   "cell_type": "code",
   "execution_count": 14,
   "metadata": {},
   "outputs": [
    {
     "data": {
      "text/plain": [
       "(212.57417998545432, 109.3481581845177)"
      ]
     },
     "execution_count": 14,
     "metadata": {},
     "output_type": "execute_result"
    }
   ],
   "source": [
    "V2 = 1.2 * V_s\n",
    "Knots(V2), V2"
   ]
  },
  {
   "cell_type": "markdown",
   "metadata": {},
   "source": [
    "#### Key Speeds:\n",
    "- Vr : Speed at which rotation is initiated so that aircraft clears 35ft screen height\n",
    "- V1 : Decision speed, maximum speed for Rejected Take Off\n",
    "- V2 : Min climb speed OEI, must be reached by 35ft\n",
    "- Vs : Stall Speed @ max CL\n",
    "- VLOF : Aircraft leaves the ground\n",
    "- VEF : Engine Failure Speed ~1-2 secs before V1"
   ]
  },
  {
   "cell_type": "markdown",
   "metadata": {},
   "source": [
    "<hr style=\"height:1px;border-width:0;color:black;background-color:black\">"
   ]
  },
  {
   "cell_type": "markdown",
   "metadata": {},
   "source": [
    "# V1 AEO Acc-Stop"
   ]
  },
  {
   "cell_type": "code",
   "execution_count": 15,
   "metadata": {},
   "outputs": [],
   "source": [
    "def SDF_TC(T0,t):\n",
    "    def model(x,a,b,c,d,e,x0,x1):\n",
    "        conds = [x<x0, (x>=x0) & (x<x1),x>=x1]\n",
    "        funcs = [1,lambda x:(a/x) + b*np.exp(-c*x) + d/np.sqrt(x) + e, (a/x1) + b*np.exp(-c*x1) \n",
    "                 + d/np.sqrt(x1) + e]\n",
    "        return np.piecewise(x,condlist=conds,funclist=funcs)\n",
    "    return T0 * model(float(t),-0.261,1.280,1.345,0.612,-0.073,0.39,12)\n",
    "\n",
    "def accel(t,y):\n",
    "    Vx = y[0]\n",
    "    X = y[1]\n",
    "    \n",
    "    dVxdt = (1/m) * ((T_L + T_R) - D(Vx,0,0) - D_f(Vx,0))\n",
    "    dXdt = Vx - Vw\n",
    "    return np.array([dVxdt,dXdt])\n",
    "\n",
    "def brake(t,y):\n",
    "    Vx = y[0]\n",
    "    X = y[1]\n",
    "    \n",
    "    dVxdt = (1/m) * ((SDF_TC(T_L,t) + SDF_TC(T_R,t)) - D(Vx,0,0) - D_f(Vx,0)) - 0.4*g\n",
    "#     dVxdt = -0.5 * g\n",
    "    dXdt = Vx - Vw\n",
    "    \n",
    "    return np.array([dVxdt,dXdt])\n",
    "\n",
    "def Abort(t,y):\n",
    "    Vx = y[0]\n",
    "    return Vx - MS(V_abort)\n",
    "Abort.terminal = True\n",
    "\n",
    "def stop(t,y):\n",
    "    Vx = y[0]\n",
    "    return Vx\n",
    "stop.terminal = True"
   ]
  },
  {
   "cell_type": "code",
   "execution_count": 16,
   "metadata": {},
   "outputs": [
    {
     "name": "stdout",
     "output_type": "stream",
     "text": [
      "Wall time: 0 ns\n"
     ]
    }
   ],
   "source": [
    "%%time\n",
    "def find_V1(V_t):\n",
    "    def V1Abort(t,y):\n",
    "        Vx = y[0]\n",
    "        return Vx - MS(V_t)\n",
    "    V1Abort.terminal = True\n",
    "\n",
    "    print(V_t)\n",
    "    \n",
    "    x0 = 0\n",
    "    v0 = 0\n",
    "    y0 = np.array([v0,x0])\n",
    "    sol_accel = solve_ivp(accel,[0,100],y0,rtol=1e-9,max_step=1e-3,events=[V1Abort])\n",
    "\n",
    "    x0 = sol_accel.y[1][-1]\n",
    "    v0 = sol_accel.y[0][-1]\n",
    "    y0 = np.array([v0,x0])\n",
    "    sol_brake = solve_ivp(brake,[0,100],y0,rtol=1e-9,max_step=1e-3,events=[stop])\n",
    "    \n",
    "    return sol_brake.y[1][-1] - RunwayLength"
   ]
  },
  {
   "cell_type": "code",
   "execution_count": 17,
   "metadata": {},
   "outputs": [
    {
     "name": "stdout",
     "output_type": "stream",
     "text": [
      "160.0\n",
      "160.0161\n",
      "147.99710649270148\n",
      "147.49986096350972\n",
      "147.477485926301\n",
      "147.47744412537475\n"
     ]
    }
   ],
   "source": [
    "V_abort = newton(find_V1,160)"
   ]
  },
  {
   "cell_type": "code",
   "execution_count": 18,
   "metadata": {},
   "outputs": [],
   "source": [
    "x0 = 0\n",
    "v0 = 0\n",
    "y0 = np.array([v0,x0])\n",
    "sol_accel = solve_ivp(accel,[0,100],y0,rtol=1e-9,max_step=1e-3,events=[Abort])\n",
    "\n",
    "x0 = sol_accel.y[1][-1]\n",
    "v0 = sol_accel.y[0][-1]\n",
    "y0 = np.array([v0,x0])\n",
    "sol_brake = solve_ivp(brake,[0,40],y0,rtol=1e-9,max_step=1e-3,events=[stop])"
   ]
  },
  {
   "cell_type": "code",
   "execution_count": 19,
   "metadata": {},
   "outputs": [
    {
     "data": {
      "text/plain": [
       "1650.000000000021"
      ]
     },
     "execution_count": 19,
     "metadata": {},
     "output_type": "execute_result"
    }
   ],
   "source": [
    "sol_brake.y[1][-1]"
   ]
  },
  {
   "cell_type": "code",
   "execution_count": 20,
   "metadata": {},
   "outputs": [
    {
     "data": {
      "text/plain": [
       "1638.7397732206568"
      ]
     },
     "execution_count": 20,
     "metadata": {},
     "output_type": "execute_result"
    }
   ],
   "source": [
    "V_abort = np.floor(V_abort)\n",
    "\n",
    "x0 = 0\n",
    "v0 = 0\n",
    "y0 = np.array([v0,x0])\n",
    "sol_accel = solve_ivp(accel,[0,100],y0,rtol=1e-9,max_step=1e-3,events=[Abort])\n",
    "\n",
    "x0 = sol_accel.y[1][-1]\n",
    "v0 = sol_accel.y[0][-1]\n",
    "y0 = np.array([v0,x0])\n",
    "sol_brake = solve_ivp(brake,[0,40],y0,rtol=1e-9,max_step=1e-3,events=[stop])\n",
    "sol_brake.y[1][-1]"
   ]
  },
  {
   "cell_type": "code",
   "execution_count": 21,
   "metadata": {},
   "outputs": [
    {
     "data": {
      "text/plain": [
       "147.0"
      ]
     },
     "execution_count": 21,
     "metadata": {},
     "output_type": "execute_result"
    }
   ],
   "source": [
    "V_abort"
   ]
  },
  {
   "cell_type": "code",
   "execution_count": 22,
   "metadata": {},
   "outputs": [
    {
     "data": {
      "text/plain": [
       "Text(44, 1475, 'Dist. = 1638')"
      ]
     },
     "execution_count": 22,
     "metadata": {},
     "output_type": "execute_result"
    },
    {
     "data": {
      "image/png": "[encoded data removed]",
      "text/plain": [
       "<Figure size 1080x720 with 2 Axes>"
      ]
     },
     "metadata": {
      "needs_background": "light"
     },
     "output_type": "display_data"
    }
   ],
   "source": [
    "fig, (ax0, ax1) = plt.subplots(2)\n",
    "\n",
    "ax0.set_title('Aircraft Velocity')\n",
    "ax0.plot(sol_accel.t,sol_accel.y[0])\n",
    "ax0.plot(sol_brake.t + sol_accel.t[-1],sol_brake.y[0])\n",
    "ax0.set_ylabel('Velocity [ms-1]')\n",
    "\n",
    "ax1.set_title('Distance Travelled')\n",
    "ax1.plot(sol_accel.t,sol_accel.y[1])\n",
    "ax1.plot(sol_brake.t + sol_accel.t[-1],sol_brake.y[1])\n",
    "ax1.set_xlabel('Time [s]')\n",
    "ax1.set_ylabel('Distance [m]')"
   ]
  },
  {
   "cell_type": "markdown",
   "metadata": {},
   "source": [
    "<hr style=\"height:1px;border-width:0;color:black;background-color:black\">"
   ]
  },
  {
   "cell_type": "markdown",
   "metadata": {},
   "source": [
    "# V1 OEI Acc-Stop"
   ]
  },
  {
   "cell_type": "code",
   "execution_count": 23,
   "metadata": {},
   "outputs": [],
   "source": [
    "def SDF_FC(T0,t):\n",
    "    def model(x,a,n,b,c,d,e,f,x0,x1):\n",
    "        conds = [x<x0, (x>=x0) & (x<x1),x>=x1]\n",
    "        funcs = [lambda x:1+a*x**n,lambda x:(b/x) + c*np.exp(-d*x) + e/np.sqrt(x) + f, 0]\n",
    "        return np.piecewise(x,condlist=conds,funclist=funcs)\n",
    "    return T0 * model(float(t),-5,3.25,-0.068,1.249,2.419,0.291,-0.108,0.25,5.5)\n",
    "\n",
    "def SDF_TC(T0,t):\n",
    "    def model(x,a,b,c,d,e,x0,x1):\n",
    "        conds = [x<x0, (x>=x0) & (x<x1),x>=x1]\n",
    "        funcs = [1,lambda x:(a/x) + b*np.exp(-c*x) + d/np.sqrt(x) + e, (a/x1) + b*np.exp(-c*x1) \n",
    "                 + d/np.sqrt(x1) + e]\n",
    "        return np.piecewise(x,condlist=conds,funclist=funcs)\n",
    "    return T0 * model(float(t),-0.261,1.280,1.345,0.612,-0.073,0.39,12)\n",
    "\n",
    "airfield_alt_m = Feet2M(alt_ft)\n",
    "a = isa_offset.vsound_mps(airfield_alt_m)\n",
    "def T(T_SL,V_ms):\n",
    "    mach = V_ms/a\n",
    "    tf = at.turbofanthrustfactor(temp_c, isa_offset.airpress_pa(airfield_alt_m), mach, ptype='highbpr')\n",
    "    return T_SL * tf\n",
    "    \n",
    "def toVef(t,y):\n",
    "    Vx = y[0]\n",
    "    X = y[1]\n",
    "    \n",
    "    dVxdt = (1/m) * ((T_L + T_R) - D(Vx,0,0) - D_f(Vx,0))\n",
    "    dXdt = Vx - Vw\n",
    "    dTdt = 0\n",
    "    \n",
    "    return np.array([dVxdt,dXdt])\n",
    "\n",
    "def VefV1(t,y,t_Vef):\n",
    "    Vx = y[0]\n",
    "    X = y[1]\n",
    "    \n",
    "    dVxdt = (1/m) * ((SDF_FC(T_L,t - t_Vef) + T_R) - D(Vx,0,0) - D_f(Vx,0))\n",
    "    dXdt = Vx - Vw\n",
    "    return np.array([dVxdt,dXdt])\n",
    "\n",
    "\n",
    "def V1stop(t,y,t_Vef,t_V1):\n",
    "    Vx = y[0]\n",
    "    X = y[1]\n",
    "\n",
    "    dVxdt = (1/m) * ((SDF_FC(T_L,t - t_Vef) + SDF_TC(T_R,t-t_V1)) - D(Vx,0,0) - D_f(Vx,0)) - 0.4*g\n",
    "#     dVxdt = -(1/m)*(D(Vx,0,0) + D_f(Vx,0)) - 0.25*g\n",
    "#     dVxdt = - 0.5*g\n",
    "    dXdt = Vx - Vw\n",
    "    return np.array([dVxdt,dXdt])\n",
    "\n",
    "def EngineFail(t,y):\n",
    "    Vx = y[0]\n",
    "    return Vx - MS(V_ef)\n",
    "EngineFail.terminal = True  \n",
    "\n",
    "def stop(t,y):\n",
    "    Vx = y[0]\n",
    "    return Vx\n",
    "stop.terminal = True"
   ]
  },
  {
   "cell_type": "code",
   "execution_count": 24,
   "metadata": {},
   "outputs": [],
   "source": [
    "def find_V1_OEI(V1):\n",
    "    def EngineFail(t,y):\n",
    "        Vx = y[0]\n",
    "        return Vx - V_ef\n",
    "    EngineFail.terminal = True\n",
    "    def Abort(t,y):\n",
    "        Vx = y[0]\n",
    "        return Vx - MS(V1)\n",
    "    Abort.terminal = True\n",
    "    \n",
    "    #starting at V1 and going 2 seconds back to get Vef\n",
    "    #V1 to Vef (t -ve)\n",
    "    x0 = 0\n",
    "    v0 = MS(V1)\n",
    "    y0 = np.array([v0,x0])\n",
    "    sol_V1Vef = solve_ivp(lambda t, y: VefV1(t,y,0), [2,0], y0, rtol=1e-9, max_step=1e-3)\n",
    "    \n",
    "    V_ef =  sol_V1Vef.y[0][-1]\n",
    "       \n",
    "    #Solve given the calculated Vef\n",
    "    x0 = 0\n",
    "    v0 = 0\n",
    "    y0 = np.array([v0,x0])\n",
    "    sol_Vef = solve_ivp(toVef,[0,60],y0,rtol=1e-9,max_step=1e-3,events=[EngineFail])\n",
    "\n",
    "    t_V_ef = sol_Vef.t[-1]\n",
    "      \n",
    "    x0 = sol_Vef.y[1][-1]\n",
    "    v0 = sol_Vef.y[0][-1]\n",
    "    y0 = np.array([v0,x0])\n",
    "    sol_V1 = solve_ivp(lambda t, y: VefV1(t,y,t_V_ef),[sol_Vef.t[-1],sol_Vef.t[-1]+60],y0,rtol=1e-9,\n",
    "                       max_step=1e-3, events=[Abort])\n",
    "    \n",
    "    t_V1 = sol_V1.t[-1]\n",
    "      \n",
    "    x0 = sol_V1.y[1][-1]\n",
    "    v0 = sol_V1.y[0][-1]\n",
    "    y0 = np.array([v0,x0])\n",
    "    sol_brake = solve_ivp(lambda t, y: V1stop(t,y,t_V_ef,t_V1),[sol_V1.t[-1],sol_V1.t[-1]+60],y0,\n",
    "                          rtol=1e-9,max_step=1e-3,events=[stop])\n",
    "    \n",
    "    print(V1)\n",
    "    return sol_brake.y[1][-1] - RunwayLength"
   ]
  },
  {
   "cell_type": "code",
   "execution_count": 31,
   "metadata": {},
   "outputs": [
    {
     "name": "stdout",
     "output_type": "stream",
     "text": [
      "160.0\n",
      "160.0161\n",
      "148.1319538020136\n",
      "147.64618300182454\n",
      "147.62461202916947\n",
      "147.6245727496295\n",
      "Wall time: 1min 10s\n"
     ]
    }
   ],
   "source": [
    "%%time\n",
    "V1 = np.floor(newton(find_V1_OEI,160))"
   ]
  },
  {
   "cell_type": "code",
   "execution_count": 32,
   "metadata": {},
   "outputs": [
    {
     "name": "stdout",
     "output_type": "stream",
     "text": [
      "Wall time: 11 s\n"
     ]
    }
   ],
   "source": [
    "%%time\n",
    "def EngineFail(t,y):\n",
    "    Vx = y[0]\n",
    "    return Vx - V_ef\n",
    "EngineFail.terminal = True\n",
    "def Abort(t,y):\n",
    "    Vx = y[0]\n",
    "    return Vx - MS(V1)\n",
    "Abort.terminal = True\n",
    "    \n",
    "#starting at V1 and going 2 seconds back to get Vef\n",
    "#V1 to Vef (t -ve)\n",
    "x0 = 0\n",
    "v0 = MS(V1)\n",
    "y0 = np.array([v0,x0])\n",
    "sol_V1Vef = solve_ivp(lambda t, y: VefV1(t,y,0), [2,0], y0, rtol=1e-9, max_step=1e-3)\n",
    "     \n",
    "V_ef =  sol_V1Vef.y[0][-1]\n",
    "\n",
    "#Solve given the calculated Vef\n",
    "x0 = 0\n",
    "v0 = 0\n",
    "y0 = np.array([v0,x0])\n",
    "sol_Vef = solve_ivp(toVef,[0,60],y0,rtol=1e-9,max_step=1e-3,events=[EngineFail])\n",
    "\n",
    "t_V_ef = sol_Vef.t[-1]\n",
    "\n",
    "x0 = sol_Vef.y[1][-1]\n",
    "v0 = sol_Vef.y[0][-1]\n",
    "y0 = np.array([v0,x0])\n",
    "sol_V1 = solve_ivp(lambda t, y: VefV1(t,y,t_V_ef),[sol_Vef.t[-1],sol_Vef.t[-1]+60],y0,rtol=1e-9,\n",
    "                   max_step=1e-3, events=[Abort])\n",
    "\n",
    "t_V1 = sol_V1.t[-1]\n",
    "\n",
    "x0 = sol_V1.y[1][-1]\n",
    "v0 = sol_V1.y[0][-1]\n",
    "y0 = np.array([v0,x0])\n",
    "sol_brake = solve_ivp(lambda t, y: V1stop(t,y,t_V_ef,t_V1),[sol_V1.t[-1],sol_V1.t[-1]+60],y0,\n",
    "                      rtol=1e-9,max_step=1e-3,events=[stop])"
   ]
  },
  {
   "cell_type": "code",
   "execution_count": 33,
   "metadata": {},
   "outputs": [
    {
     "data": {
      "text/plain": [
       "(147.0, 1635.34593513524)"
      ]
     },
     "execution_count": 33,
     "metadata": {},
     "output_type": "execute_result"
    }
   ],
   "source": [
    "V1, sol_brake.y[1][-1]"
   ]
  },
  {
   "cell_type": "code",
   "execution_count": 34,
   "metadata": {},
   "outputs": [
    {
     "data": {
      "text/plain": [
       "Text(0, 0.5, 'Distance [m]')"
      ]
     },
     "execution_count": 34,
     "metadata": {},
     "output_type": "execute_result"
    },
    {
     "data": {
      "image/png": "[encoded data removed]",
      "text/plain": [
       "<Figure size 1080x720 with 2 Axes>"
      ]
     },
     "metadata": {
      "needs_background": "light"
     },
     "output_type": "display_data"
    }
   ],
   "source": [
    "fig, (ax0, ax1) = plt.subplots(2)\n",
    "\n",
    "ax0.set_title('Aircraft Velocity')\n",
    "ax0.plot(sol_Vef.t,sol_Vef.y[0])\n",
    "ax0.plot(sol_V1.t,sol_V1.y[0])\n",
    "ax0.plot(sol_brake.t,sol_brake.y[0])\n",
    "ax0.set_ylabel('Velocity [ms-1]')\n",
    "\n",
    "ax1.plot(sol_Vef.t,sol_Vef.y[1])\n",
    "ax1.plot(sol_V1.t,sol_V1.y[1])\n",
    "ax1.plot(sol_brake.t,sol_brake.y[1])\n",
    "ax1.set_title('Distance Travelled')\n",
    "ax1.set_xlabel('Time [s]')\n",
    "ax1.set_ylabel('Distance [m]')"
   ]
  }
 ],
 "metadata": {
  "kernelspec": {
   "display_name": "Python 3",
   "language": "python",
   "name": "python3"
  },
  "language_info": {
   "codemirror_mode": {
    "name": "ipython",
    "version": 3
   },
   "file_extension": ".py",
   "mimetype": "text/x-python",
   "name": "python",
   "nbconvert_exporter": "python",
   "pygments_lexer": "ipython3",
   "version": "3.7.3"
  }
 },
 "nbformat": 4,
 "nbformat_minor": 4
}
