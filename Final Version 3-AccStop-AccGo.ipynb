{
 "cells": [
  {
   "cell_type": "markdown",
   "metadata": {},
   "source": [
    "# Final Version 3"
   ]
  },
  {
   "cell_type": "markdown",
   "metadata": {},
   "source": [
    "<b><i> Identified [Aim](#aim) of the project as, see link to later in document"
   ]
  },
  {
   "cell_type": "markdown",
   "metadata": {},
   "source": [
    "### External Modules"
   ]
  },
  {
   "cell_type": "code",
   "execution_count": 70,
   "metadata": {},
   "outputs": [],
   "source": [
    "import numpy as np\n",
    "import pandas as pd\n",
    "import ADRpy as ADR\n",
    "import matplotlib.pyplot as plt\n",
    "from scipy.integrate import solve_ivp\n",
    "from scipy.optimize import newton\n",
    "from ADRpy import atmospheres as at"
   ]
  },
  {
   "cell_type": "code",
   "execution_count": 71,
   "metadata": {},
   "outputs": [],
   "source": [
    "plt.rcParams[\"figure.figsize\"]=15,10 #Set plot size\n",
    "plt.rcParams.update({'font.size': 16}) #set plot size font\n",
    "plt.rcParams.update({\"axes.grid\" : True, \"grid.color\": \"lightgrey\"}) #Add grid lines to plot"
   ]
  },
  {
   "cell_type": "markdown",
   "metadata": {},
   "source": [
    "### Conversions"
   ]
  },
  {
   "cell_type": "code",
   "execution_count": 72,
   "metadata": {},
   "outputs": [],
   "source": [
    "def Knots(MS):\n",
    "    return MS / 0.5144\n",
    "\n",
    "def MS(Knots):\n",
    "    return Knots * 0.5144\n",
    "\n",
    "def radian(degree):\n",
    "    return degree * np.pi/180\n",
    "\n",
    "def Feet2M(feet):\n",
    "    return feet / 3.281"
   ]
  },
  {
   "cell_type": "markdown",
   "metadata": {},
   "source": [
    "### Environment Parameters"
   ]
  },
  {
   "cell_type": "code",
   "execution_count": 73,
   "metadata": {},
   "outputs": [],
   "source": [
    "g = 9.81        #Gravitational Constant\n",
    "rho = 1.225\n",
    "\n",
    "# Wind Speed / Direcion\n",
    "#     Headwind +ve\n",
    "#     Cross wind +ve from right\n",
    "w_vel = 0\n",
    "w_deg = 0\n",
    "\n",
    "mu = 0.05    #Driction Coefficient to Runway Surface\n",
    "\n",
    "temp_c = 15     #Airfield OAT temperacture in celcius\n",
    "alt_ft = 66     #Airfield (runway) altitude in feet\n",
    "RunwayLength = 3660"
   ]
  },
  {
   "cell_type": "code",
   "execution_count": 74,
   "metadata": {},
   "outputs": [],
   "source": [
    "# Vw = MS(5) #5 kt headwind\n",
    "Vw = 5"
   ]
  },
  {
   "cell_type": "markdown",
   "metadata": {},
   "source": [
    "#### Calculate $\\rho$ at Airfield Temp and Altitude"
   ]
  },
  {
   "cell_type": "code",
   "execution_count": 75,
   "metadata": {},
   "outputs": [],
   "source": [
    "def sealevel(t):\n",
    "    isa_offset = at.Atmosphere(offset_deg=t)\n",
    "    return isa_offset.airtemp_c(Feet2M(alt_ft)) - temp_c"
   ]
  },
  {
   "cell_type": "code",
   "execution_count": 76,
   "metadata": {},
   "outputs": [
    {
     "data": {
      "text/plain": [
       "1.2220811339457178"
      ]
     },
     "execution_count": 76,
     "metadata": {},
     "output_type": "execute_result"
    }
   ],
   "source": [
    "isa_offset = at.Atmosphere(offset_deg=newton(sealevel,0))\n",
    "rho = isa_offset.airdens_kgpm3(Feet2M(alt_ft))\n",
    "rho"
   ]
  },
  {
   "cell_type": "markdown",
   "metadata": {},
   "source": [
    "### Aircraft Parameters"
   ]
  },
  {
   "cell_type": "markdown",
   "metadata": {},
   "source": [
    "#### Airframe"
   ]
  },
  {
   "cell_type": "code",
   "execution_count": 77,
   "metadata": {},
   "outputs": [],
   "source": [
    "m = 60000       #Mass\n",
    "\n",
    "S = 122.6        #Wing Area\n",
    "h_W = 3.38      #Height of wing above the ground\n",
    "\n",
    "b = 34.1       #Wingspan\n",
    "\n",
    "c = S/b       #Chord length"
   ]
  },
  {
   "cell_type": "code",
   "execution_count": 78,
   "metadata": {},
   "outputs": [],
   "source": [
    "A = (b**2)/S\n",
    "e = 0.85\n",
    "a0 = 2*np.pi\n",
    "alpha_0L = - radian(2)\n",
    "\n",
    "def CL(alpha):\n",
    "    alpha1 = radian(alpha)\n",
    "    return a0 * ((np.pi*A*e)/(np.pi*A*e + a0)) * (alpha1 - alpha_0L)\n",
    "\n",
    "#def Cl(alpha):\n",
    "#    a0 = 2*np.pi\n",
    "#    alpha0 = radian(2)\n",
    "#    \n",
    "#    return a0*(alpha + alpha0/57.3)"
   ]
  },
  {
   "cell_type": "code",
   "execution_count": 79,
   "metadata": {},
   "outputs": [],
   "source": [
    "CD0 = 0.02"
   ]
  },
  {
   "cell_type": "markdown",
   "metadata": {},
   "source": [
    "#### Engine Thrust"
   ]
  },
  {
   "cell_type": "code",
   "execution_count": 80,
   "metadata": {},
   "outputs": [],
   "source": [
    "T_L = 120.6 * 1e3  \n",
    "T_R = 120.6 * 1e3   "
   ]
  },
  {
   "cell_type": "markdown",
   "metadata": {},
   "source": [
    "<hr style=\"height:1px;border-width:0;color:black;background-color:black\">"
   ]
  },
  {
   "cell_type": "markdown",
   "metadata": {},
   "source": [
    "### Key Functions"
   ]
  },
  {
   "cell_type": "markdown",
   "metadata": {},
   "source": [
    "- Lift\n",
    "- Drag\n",
    "- Ground Effect\n",
    "- Friction\n",
    "- Induced Drag\n",
    "- phi"
   ]
  },
  {
   "cell_type": "code",
   "execution_count": 81,
   "metadata": {},
   "outputs": [],
   "source": [
    "def Lift(V,alpha):\n",
    "    return 0.5 * rho * V**2 * S * CL(alpha)\n",
    "\n",
    "def Drag(V,alpha):\n",
    "    return None\n",
    "\n",
    "def D_i(V,alpha):\n",
    "    return 0\n",
    "\n",
    "def D(V,h,alpha):\n",
    "    return 0.5 * rho * V**2 * S * (CD0 + phi(h) * (CL(alpha)**2)/(np.pi * e * A))\n",
    "\n",
    "def D_f(V,alpha):\n",
    "    R = m*g - Lift(V,alpha)\n",
    "    return mu * R\n",
    "\n",
    "def phi(h_alt):\n",
    "    h = h_alt + h_W\n",
    "    phi = ((16*h/b)**2)/((1+((16*h/b)**2)))\n",
    "    if phi > 1:\n",
    "        phi = 1\n",
    "    return phi"
   ]
  },
  {
   "cell_type": "markdown",
   "metadata": {},
   "source": [
    "<hr style=\"height:1px;border-width:0;color:black;background-color:black\">"
   ]
  },
  {
   "cell_type": "markdown",
   "metadata": {},
   "source": [
    "#### Key Speeds:\n",
    "- Vr : Speed at which rotation is initiated so that aircraft clears 35ft screen height\n",
    "- V1 : Decision speed, maximum speed for Rejected Take Off\n",
    "- V2 : Min climb speed OEI, must be reached by 35ft\n",
    "- Vs : Stall Speed @ max CL\n",
    "- VLOF : Aircraft leaves the ground\n",
    "- VEF : Engine Failure Speed ~1-2 secs before V1"
   ]
  },
  {
   "cell_type": "markdown",
   "metadata": {},
   "source": [
    "<div class=\"alert alert-block alert-info\">\n",
    "V1 is found by conducting the balanced field investigation for the parameters entered. <br><br> <a id='aim'></a><b> Aim to create a monte carlo analysis of balanced field lengths for a number of different aircraft parameters (should be able to input array for each of the paramters listed under Aircraft Parameters and Environmental Parameters sections above </b>\n",
    "</div>"
   ]
  },
  {
   "cell_type": "markdown",
   "metadata": {},
   "source": [
    "<hr style=\"height:1px;border-width:0;color:black;background-color:black\">"
   ]
  },
  {
   "cell_type": "markdown",
   "metadata": {},
   "source": [
    "# V1 AEO Acc-Stop"
   ]
  },
  {
   "cell_type": "code",
   "execution_count": 82,
   "metadata": {},
   "outputs": [],
   "source": [
    "def SDF_TC(T0,t):\n",
    "    def model(x,a,b,c,d,e,x0,x1):\n",
    "        conds = [x<x0, (x>=x0) & (x<x1),x>=x1]\n",
    "        funcs = [1,lambda x:(a/x) + b*np.exp(-c*x) + d/np.sqrt(x) + e, (a/x1) + b*np.exp(-c*x1) + d/np.sqrt(x1) + e]\n",
    "        return np.piecewise(x,condlist=conds,funclist=funcs)\n",
    "    return T0 * model(float(t),-0.261,1.280,1.345,0.612,-0.073,0.39,12)\n",
    "\n",
    "def accel(t,y):\n",
    "    Vx = y[0]\n",
    "    X = y[1]\n",
    "    \n",
    "    dVxdt = (1/m) * ((T_L + T_R) - D(Vx,0,0) - D_f(Vx,0))\n",
    "    dXdt = Vx - Vw\n",
    "    return np.array([dVxdt,dXdt])\n",
    "\n",
    "def brake(t,y):\n",
    "    Vx = y[0]\n",
    "    X = y[1]\n",
    "    \n",
    "    dVxdt = (1/m) * ((SDF_TC(T_L,t) + SDF_TC(T_R,t)) - D(Vx,0,0) - D_f(Vx,0)) - 0.4*g\n",
    "#     dVxdt = -0.5 * g\n",
    "    dXdt = Vx - Vw\n",
    "    \n",
    "    return np.array([dVxdt,dXdt])\n",
    "\n",
    "def Abort(t,y):\n",
    "    Vx = y[0]\n",
    "    return Vx - MS(V_abort)\n",
    "Abort.terminal = True\n",
    "\n",
    "def stop(t,y):\n",
    "    Vx = y[0]\n",
    "    return Vx\n",
    "stop.terminal = True"
   ]
  },
  {
   "cell_type": "code",
   "execution_count": 83,
   "metadata": {},
   "outputs": [],
   "source": [
    "def find_V1(V_t):\n",
    "    def V1Abort(t,y):\n",
    "        Vx = y[0]\n",
    "        return Vx - MS(V_t)\n",
    "    V1Abort.terminal = True\n",
    "\n",
    "    print(V_t)\n",
    "    \n",
    "    x0 = 0\n",
    "    v0 = 0\n",
    "    y0 = np.array([v0,x0])\n",
    "    sol_accel = solve_ivp(accel,[0,100],y0,rtol=1e-9,max_step=1e-3,events=[V1Abort])\n",
    "\n",
    "    x0 = sol_accel.y[1][-1]\n",
    "    v0 = sol_accel.y[0][-1]\n",
    "    y0 = np.array([v0,x0])\n",
    "    sol_brake = solve_ivp(brake,[0,100],y0,rtol=1e-9,max_step=1e-3,events=[stop])\n",
    "    \n",
    "    return sol_brake.y[1][-1] - RunwayLength"
   ]
  },
  {
   "cell_type": "code",
   "execution_count": 84,
   "metadata": {},
   "outputs": [
    {
     "name": "stdout",
     "output_type": "stream",
     "text": [
      "160.0\n",
      "160.0161\n",
      "249.76082682081642\n",
      "229.50314262288168\n",
      "232.53705321393065\n",
      "232.65518680519256\n",
      "232.65435324345418\n",
      "232.654353462382\n"
     ]
    }
   ],
   "source": [
    "V_abort = newton(find_V1,160)"
   ]
  },
  {
   "cell_type": "code",
   "execution_count": 85,
   "metadata": {},
   "outputs": [],
   "source": [
    "x0 = 0\n",
    "v0 = 0\n",
    "y0 = np.array([v0,x0])\n",
    "sol_accel = solve_ivp(accel,[0,100],y0,rtol=1e-9,max_step=1e-3,events=[Abort])\n",
    "\n",
    "x0 = sol_accel.y[1][-1]\n",
    "v0 = sol_accel.y[0][-1]\n",
    "y0 = np.array([v0,x0])\n",
    "sol_brake = solve_ivp(brake,[0,40],y0,rtol=1e-9,max_step=1e-3,events=[stop])"
   ]
  },
  {
   "cell_type": "code",
   "execution_count": 86,
   "metadata": {},
   "outputs": [
    {
     "data": {
      "text/plain": [
       "3659.999999999997"
      ]
     },
     "execution_count": 86,
     "metadata": {},
     "output_type": "execute_result"
    }
   ],
   "source": [
    "sol_brake.y[1][-1]"
   ]
  },
  {
   "cell_type": "code",
   "execution_count": 87,
   "metadata": {},
   "outputs": [
    {
     "data": {
      "text/plain": [
       "3638.9199084585475"
      ]
     },
     "execution_count": 87,
     "metadata": {},
     "output_type": "execute_result"
    }
   ],
   "source": [
    "V_abort = np.floor(V_abort)\n",
    "\n",
    "x0 = 0\n",
    "v0 = 0\n",
    "y0 = np.array([v0,x0])\n",
    "sol_accel = solve_ivp(accel,[0,100],y0,rtol=1e-9,max_step=1e-3,events=[Abort])\n",
    "\n",
    "x0 = sol_accel.y[1][-1]\n",
    "v0 = sol_accel.y[0][-1]\n",
    "y0 = np.array([v0,x0])\n",
    "sol_brake = solve_ivp(brake,[0,40],y0,rtol=1e-9,max_step=1e-3,events=[stop])\n",
    "sol_brake.y[1][-1]"
   ]
  },
  {
   "cell_type": "code",
   "execution_count": 88,
   "metadata": {},
   "outputs": [
    {
     "data": {
      "text/plain": [
       "232.0"
      ]
     },
     "execution_count": 88,
     "metadata": {},
     "output_type": "execute_result"
    }
   ],
   "source": [
    "V_abort"
   ]
  },
  {
   "cell_type": "code",
   "execution_count": 89,
   "metadata": {},
   "outputs": [
    {
     "data": {
      "text/plain": [
       "[<matplotlib.lines.Line2D at 0x165e9c1f400>]"
      ]
     },
     "execution_count": 89,
     "metadata": {},
     "output_type": "execute_result"
    },
    {
     "data": {
      "image/png": "[encoded data removed]",
      "text/plain": [
       "<Figure size 1080x720 with 2 Axes>"
      ]
     },
     "metadata": {
      "needs_background": "light"
     },
     "output_type": "display_data"
    }
   ],
   "source": [
    "fig, (ax0, ax1) = plt.subplots(2, sharex=True)\n",
    "\n",
    "ax0.plot(sol_accel.t,sol_accel.y[0])\n",
    "ax0.plot(sol_brake.t + sol_accel.t[-1],sol_brake.y[0])\n",
    "\n",
    "ax1.plot(sol_accel.t,sol_accel.y[1])\n",
    "ax1.plot(sol_brake.t + sol_accel.t[-1],sol_brake.y[1])"
   ]
  },
  {
   "cell_type": "markdown",
   "metadata": {},
   "source": [
    "<hr style=\"height:1px;border-width:0;color:black;background-color:black\">"
   ]
  },
  {
   "cell_type": "markdown",
   "metadata": {},
   "source": [
    "# V1 OEI Acc-Stop"
   ]
  },
  {
   "cell_type": "code",
   "execution_count": 90,
   "metadata": {},
   "outputs": [],
   "source": [
    "def SDF_FC(T0,t):\n",
    "    def model(x,a,n,b,c,d,e,f,x0,x1):\n",
    "        conds = [x<x0, (x>=x0) & (x<x1),x>=x1]\n",
    "        funcs = [lambda x:1+a*x**n,lambda x:(b/x) + c*np.exp(-d*x) + e/np.sqrt(x) + f, 0]\n",
    "        return np.piecewise(x,condlist=conds,funclist=funcs)\n",
    "    return T0 * model(float(t),-5,3.25,-0.068,1.249,2.419,0.291,-0.108,0.25,5.5)\n",
    "\n",
    "def SDF_TC(T0,t):\n",
    "    def model(x,a,b,c,d,e,x0,x1):\n",
    "        conds = [x<x0, (x>=x0) & (x<x1),x>=x1]\n",
    "        funcs = [1,lambda x:(a/x) + b*np.exp(-c*x) + d/np.sqrt(x) + e, (a/x1) + b*np.exp(-c*x1) + d/np.sqrt(x1) + e]\n",
    "        return np.piecewise(x,condlist=conds,funclist=funcs)\n",
    "    return T0 * model(float(t),-0.261,1.280,1.345,0.612,-0.073,0.39,12)\n",
    "\n",
    " \n",
    "def toVef(t,y):\n",
    "    Vx = y[0]\n",
    "    X = y[1]\n",
    "    \n",
    "    dVxdt = (1/m) * ((T_L + T_R) - D(Vx,0,0) - D_f(Vx,0))\n",
    "    dXdt = Vx - Vw\n",
    "    dTdt = 0\n",
    "    \n",
    "    return np.array([dVxdt,dXdt])\n",
    "\n",
    "def VefV1(t,y,t_Vef):\n",
    "    Vx = y[0]\n",
    "    X = y[1]\n",
    "    \n",
    "    dVxdt = (1/m) * ((SDF_FC(T_L,t - t_Vef) + T_R) - D(Vx,0,0) - D_f(Vx,0))\n",
    "    dXdt = Vx - Vw\n",
    "    return np.array([dVxdt,dXdt])\n",
    "\n",
    "\n",
    "def V1stop(t,y,t_Vef,t_V1):\n",
    "    Vx = y[0]\n",
    "    X = y[1]\n",
    "\n",
    "    dVxdt = (1/m) * ((SDF_FC(T_L,t - t_Vef) + SDF_TC(T_R,t-t_V1)) - D(Vx,0,0) - D_f(Vx,0)) - 0.4*g\n",
    "#     dVxdt = -(1/m)*(D(Vx,0,0) + D_f(Vx,0)) - 0.25*g\n",
    "#     dVxdt = - 0.5*g\n",
    "    dXdt = Vx - Vw\n",
    "    return np.array([dVxdt,dXdt])\n",
    "\n",
    "def EngineFail(t,y):\n",
    "    Vx = y[0]\n",
    "    return Vx - MS(V_ef)\n",
    "EngineFail.terminal = True  \n",
    "\n",
    "def stop(t,y):\n",
    "    Vx = y[0]\n",
    "    return Vx\n",
    "stop.terminal = True"
   ]
  },
  {
   "cell_type": "code",
   "execution_count": 91,
   "metadata": {},
   "outputs": [],
   "source": [
    "def find_V1_OEI(V1):\n",
    "    def EngineFail(t,y):\n",
    "        Vx = y[0]\n",
    "        return Vx - V_ef\n",
    "    EngineFail.terminal = True\n",
    "    def Abort(t,y):\n",
    "        Vx = y[0]\n",
    "        return Vx - MS(V1)\n",
    "    Abort.terminal = True\n",
    "    \n",
    "    #starting at V1 and going 2 seconds back to get Vef\n",
    "    #V1 to Vef (t -ve)\n",
    "    x0 = 0\n",
    "    v0 = MS(V1)\n",
    "    y0 = np.array([v0,x0])\n",
    "    sol_V1Vef = solve_ivp(lambda t, y: VefV1(t,y,0), [2,0], y0, rtol=1e-9, max_step=1e-3)\n",
    "    \n",
    "    V_ef =  sol_V1Vef.y[0][-1]\n",
    "       \n",
    "    #Solve given the calculated Vef\n",
    "    x0 = 0\n",
    "    v0 = 0\n",
    "    y0 = np.array([v0,x0])\n",
    "    sol_Vef = solve_ivp(toVef,[0,60],y0,rtol=1e-9,max_step=1e-3,events=[EngineFail])\n",
    "\n",
    "    t_V_ef = sol_Vef.t[-1]\n",
    "      \n",
    "    x0 = sol_Vef.y[1][-1]\n",
    "    v0 = sol_Vef.y[0][-1]\n",
    "    y0 = np.array([v0,x0])\n",
    "    sol_V1 = solve_ivp(lambda t, y: VefV1(t,y,t_V_ef),[sol_Vef.t[-1],sol_Vef.t[-1]+60],y0,rtol=1e-9,max_step=1e-3, events=[Abort])\n",
    "    \n",
    "    t_V1 = sol_V1.t[-1]\n",
    "      \n",
    "    x0 = sol_V1.y[1][-1]\n",
    "    v0 = sol_V1.y[0][-1]\n",
    "    y0 = np.array([v0,x0])\n",
    "    sol_brake = solve_ivp(lambda t, y: V1stop(t,y,t_V_ef,t_V1),[sol_V1.t[-1],sol_V1.t[-1]+60],y0,rtol=1e-9,max_step=1e-3,events=[stop])\n",
    "    \n",
    "    return sol_brake.y[1][-1] - RunwayLength"
   ]
  },
  {
   "cell_type": "code",
   "execution_count": 92,
   "metadata": {},
   "outputs": [
    {
     "name": "stdout",
     "output_type": "stream",
     "text": [
      "Wall time: 1min 47s\n"
     ]
    }
   ],
   "source": [
    "%%time\n",
    "V1 = np.floor(newton(find_V1_OEI,160))"
   ]
  },
  {
   "cell_type": "code",
   "execution_count": 93,
   "metadata": {},
   "outputs": [
    {
     "name": "stdout",
     "output_type": "stream",
     "text": [
      "Wall time: 14.2 s\n"
     ]
    }
   ],
   "source": [
    "%%time\n",
    "def EngineFail(t,y):\n",
    "    Vx = y[0]\n",
    "    return Vx - V_ef\n",
    "EngineFail.terminal = True\n",
    "def Abort(t,y):\n",
    "    Vx = y[0]\n",
    "    return Vx - MS(V1)\n",
    "Abort.terminal = True\n",
    "    \n",
    "#starting at V1 and going 2 seconds back to get Vef\n",
    "#V1 to Vef (t -ve)\n",
    "x0 = 0\n",
    "v0 = MS(V1)\n",
    "y0 = np.array([v0,x0])\n",
    "sol_V1Vef = solve_ivp(lambda t, y: VefV1(t,y,0), [2,0], y0, rtol=1e-9, max_step=1e-3)\n",
    "     \n",
    "V_ef =  sol_V1Vef.y[0][-1]\n",
    "\n",
    "#Solve given the calculated Vef\n",
    "x0 = 0\n",
    "v0 = 0\n",
    "y0 = np.array([v0,x0])\n",
    "sol_Vef = solve_ivp(toVef,[0,60],y0,rtol=1e-9,max_step=1e-3,events=[EngineFail])\n",
    "\n",
    "t_V_ef = sol_Vef.t[-1]\n",
    "\n",
    "x0 = sol_Vef.y[1][-1]\n",
    "v0 = sol_Vef.y[0][-1]\n",
    "y0 = np.array([v0,x0])\n",
    "sol_V1 = solve_ivp(lambda t, y: VefV1(t,y,t_V_ef),[sol_Vef.t[-1],sol_Vef.t[-1]+60],y0,rtol=1e-9,max_step=1e-3, events=[Abort])\n",
    "\n",
    "t_V1 = sol_V1.t[-1]\n",
    "\n",
    "x0 = sol_V1.y[1][-1]\n",
    "v0 = sol_V1.y[0][-1]\n",
    "y0 = np.array([v0,x0])\n",
    "sol_brake = solve_ivp(lambda t, y: V1stop(t,y,t_V_ef,t_V1),[sol_V1.t[-1],sol_V1.t[-1]+60],y0,rtol=1e-9,max_step=1e-3,events=[stop])"
   ]
  },
  {
   "cell_type": "code",
   "execution_count": 94,
   "metadata": {},
   "outputs": [
    {
     "data": {
      "text/plain": [
       "(234.0, 3644.281866706855)"
      ]
     },
     "execution_count": 94,
     "metadata": {},
     "output_type": "execute_result"
    }
   ],
   "source": [
    "V1, sol_brake.y[1][-1]"
   ]
  },
  {
   "cell_type": "code",
   "execution_count": 95,
   "metadata": {},
   "outputs": [
    {
     "data": {
      "text/plain": [
       "[<matplotlib.lines.Line2D at 0x165e932ba20>]"
      ]
     },
     "execution_count": 95,
     "metadata": {},
     "output_type": "execute_result"
    },
    {
     "data": {
      "image/png": "[encoded data removed]",
      "text/plain": [
       "<Figure size 1080x720 with 2 Axes>"
      ]
     },
     "metadata": {
      "needs_background": "light"
     },
     "output_type": "display_data"
    }
   ],
   "source": [
    "fig, (ax0, ax1) = plt.subplots(2, sharex=True)\n",
    "\n",
    "ax0.plot(sol_Vef.t,sol_Vef.y[0])\n",
    "ax0.plot(sol_V1.t,sol_V1.y[0])\n",
    "ax0.plot(sol_brake.t,sol_brake.y[0])\n",
    "\n",
    "ax1.plot(sol_Vef.t,sol_Vef.y[1])\n",
    "ax1.plot(sol_V1.t,sol_V1.y[1])\n",
    "ax1.plot(sol_brake.t,sol_brake.y[1])"
   ]
  },
  {
   "cell_type": "markdown",
   "metadata": {},
   "source": [
    "<hr style=\"height:1px;border-width:0;color:black;background-color:black\">"
   ]
  },
  {
   "cell_type": "markdown",
   "metadata": {},
   "source": [
    "# Acc-Go"
   ]
  },
  {
   "cell_type": "markdown",
   "metadata": {},
   "source": [
    "## Calculating Stall Speed"
   ]
  },
  {
   "cell_type": "markdown",
   "metadata": {},
   "source": [
    "For stall speed, the lift equals the weight of the aircraft. i.e $L=\\frac{1}{2}\\rho V^{2}C_{L}S=W=mg$\n",
    "<br> \n",
    "Rearranging for V: $V= \\sqrt{\\frac{2mg}{\\rho C_{L}S}}$"
   ]
  },
  {
   "cell_type": "code",
   "execution_count": 96,
   "metadata": {},
   "outputs": [
    {
     "data": {
      "text/plain": [
       "155.36657437821543"
      ]
     },
     "execution_count": 96,
     "metadata": {},
     "output_type": "execute_result"
    }
   ],
   "source": [
    "CL_max = CL(12)\n",
    "V_s = np.sqrt((2*m*g)/(rho * S * CL_max))\n",
    "Knots(V_s)"
   ]
  },
  {
   "cell_type": "markdown",
   "metadata": {},
   "source": [
    "## Calculating V2min"
   ]
  },
  {
   "cell_type": "code",
   "execution_count": 97,
   "metadata": {},
   "outputs": [
    {
     "data": {
      "text/plain": [
       "(186.43988925385852, 95.90467903218482)"
      ]
     },
     "execution_count": 97,
     "metadata": {},
     "output_type": "execute_result"
    }
   ],
   "source": [
    "V2 = 1.2 * V_s\n",
    "Knots(V2), V2"
   ]
  },
  {
   "cell_type": "markdown",
   "metadata": {},
   "source": [
    "## Calculate Vr"
   ]
  },
  {
   "cell_type": "code",
   "execution_count": 205,
   "metadata": {},
   "outputs": [
    {
     "data": {
      "text/plain": [
       "(106.01575242468132, 111.31654004591539)"
      ]
     },
     "execution_count": 205,
     "metadata": {},
     "output_type": "execute_result"
    }
   ],
   "source": [
    "climb_angle = 6\n",
    "Vmu = np.sqrt((2*m*g)/(rho*S*CL(climb_angle)*np.cos(radian(climb_angle))))\n",
    "Vlof = 1.05 * Vmu\n",
    "Vmu, Vlof"
   ]
  },
  {
   "cell_type": "code",
   "execution_count": 206,
   "metadata": {},
   "outputs": [
    {
     "name": "stdout",
     "output_type": "stream",
     "text": [
      "[101.31654005   0.           0.        ]\n",
      "[101.3267717   0.          0.       ]\n",
      "[105.18678423   0.           0.        ]\n",
      "[107.60103954   0.           0.        ]\n",
      "[108.39194032   0.           0.        ]\n",
      "[108.40790541   0.           0.        ]\n",
      "[108.40785504   0.           0.        ]\n"
     ]
    },
    {
     "data": {
      "text/plain": [
       "(108.40785504960289, 111.31654004591539, 210.7462189922296, 216.40073881398794)"
      ]
     },
     "execution_count": 206,
     "metadata": {},
     "output_type": "execute_result"
    }
   ],
   "source": [
    "def V_LOF(t,y):\n",
    "    return y[0] - Vlof\n",
    "V_LOF.terminal = True\n",
    "\n",
    "def rotate_OEI(t,y):\n",
    "    Vx = y[0]\n",
    "    X = y[1]\n",
    "    Alpha = y[2]\n",
    "    \n",
    "    dVxdt = (1/m) * ((0 + T_R)*np.cos(np.radians(Alpha)) - D(Vx,0,Alpha) - D_f(Vx,Alpha))\n",
    "    dXdt = Vx - Vw\n",
    "    dAlphadt = rotate_rate\n",
    "        \n",
    "    return np.array([dVxdt,dXdt,dAlphadt])\n",
    "\n",
    "\n",
    "def rotation(Vr):\n",
    "    # initial conditions\n",
    "    x0  = 0\n",
    "    vx0 = Vr\n",
    "    alpha0 = 0\n",
    "\n",
    "    # combine s and v into array y0\n",
    "    y0 = np.array([vx0,x0,alpha0])\n",
    "    print(y0)\n",
    "    sol_rot = solve_ivp(rotate_OEI,[0,40],y0,rtol=1e-9,max_step = 1e-3,events=[V_LOF])\n",
    "    return sol_rot.y[2][-1] - climb_angle\n",
    "\n",
    "Vr = newton(rotation,Vlof-10)\n",
    "Vr, Vlof, Knots(Vr), Knots(Vlof)"
   ]
  },
  {
   "cell_type": "markdown",
   "metadata": {},
   "source": [
    "Rollout/Accel Stage of Acc-Go, is same as Acc-Stop upto V1 (Decision), then take-off is continued as '''not enough to stop'''"
   ]
  },
  {
   "cell_type": "markdown",
   "metadata": {},
   "source": [
    " > - Acc\n",
    " > - Engine Fails\n",
    " > - Acc (lower a)\n",
    " > - V1 Decision (failure acknowledged, at decision speed)\n",
    " > - contine Acc to Vr\n",
    " > - Rotate\n",
    " > - Vlof\n",
    " > - climb\n",
    " > - V2 @35ft"
   ]
  },
  {
   "cell_type": "markdown",
   "metadata": {},
   "source": [
    "## The Calc"
   ]
  },
  {
   "cell_type": "markdown",
   "metadata": {},
   "source": [
    "### Ground Run\n",
    "Accelerate upto Vef = V1, continue acceleration upto Vr"
   ]
  },
  {
   "cell_type": "code",
   "execution_count": 207,
   "metadata": {},
   "outputs": [
    {
     "name": "stdout",
     "output_type": "stream",
     "text": [
      "Wall time: 7.86 s\n"
     ]
    }
   ],
   "source": [
    "%%time\n",
    "def SDF_FC(T0,t):\n",
    "    def model(x,a,n,b,c,d,e,f,x0,x1):\n",
    "        conds = [x<x0, (x>=x0) & (x<x1),x>=x1]\n",
    "        funcs = [lambda x:1+a*x**n,lambda x:(b/x) + c*np.exp(-d*x) + e/np.sqrt(x) + f, 0]\n",
    "        return np.piecewise(x,condlist=conds,funclist=funcs)\n",
    "    return T0 * model(float(t),-5,3.25,-0.068,1.249,2.419,0.291,-0.108,0.25,5.5)\n",
    "\n",
    "def toV1(t,y):\n",
    "    Vx = y[0]\n",
    "    X = y[1]\n",
    "    \n",
    "    dVxdt = (1/m) * ((T_L + T_R) - D(Vx,0,0) - D_f(Vx,0))\n",
    "    dXdt = Vx - Vw\n",
    "    \n",
    "    return np.array([dVxdt,dXdt])\n",
    "\n",
    "def V1Vr(t,y,t_Vef):\n",
    "    Vx = y[0]\n",
    "    X = y[1]\n",
    "    \n",
    "    dVxdt = (1/m) * ((SDF_FC(T_L,t - t_Vef) + T_R) - D(Vx,0,0) - D_f(Vx,0))\n",
    "    dXdt = Vx - Vw\n",
    "\n",
    "    return np.array([dVxdt,dXdt])  \n",
    "\n",
    "#Constraints\n",
    "#  V1\n",
    "def set_V1(t,y):\n",
    "    Vx = y[0]\n",
    "    return Vx - MS(V1)\n",
    "set_V1.terminal = True\n",
    "\n",
    "#  Vr\n",
    "def set_Vr(t,y):\n",
    "    Vx = y[0]\n",
    "#     return Vx - MS(Vr)\n",
    "    return Vx - (Vr)\n",
    "set_Vr.terminal = True\n",
    "\n",
    "\n",
    "V1 = 143\n",
    "# Vr = 160\n",
    "\n",
    "x0 = 0\n",
    "v0 = 0\n",
    "y0 = np.array([v0,x0])\n",
    "\n",
    "sol_groundrunV1 = solve_ivp(toV1,[0,60],y0,rtol=1e-9,max_step=1e-3,events=[set_V1])\n",
    "\n",
    "t_V1 = sol_groundrunV1.t[-1]\n",
    "x0 = sol_groundrunV1.y[1][-1]\n",
    "v0 = sol_groundrunV1.y[0][-1]\n",
    "y0 = np.array([v0,x0])\n",
    "sol_groundrunVr = solve_ivp(lambda t, y: V1Vr(t,y,t_V1),[t_V1,t_V1+60],y0,rtol=1e-9,max_step=1e-3,events=[set_Vr])"
   ]
  },
  {
   "cell_type": "code",
   "execution_count": 208,
   "metadata": {},
   "outputs": [
    {
     "data": {
      "text/plain": [
       "[<matplotlib.lines.Line2D at 0x165f459ecf8>]"
      ]
     },
     "execution_count": 208,
     "metadata": {},
     "output_type": "execute_result"
    },
    {
     "data": {
      "image/png": "[encoded data removed]",
      "text/plain": [
       "<Figure size 1080x720 with 2 Axes>"
      ]
     },
     "metadata": {
      "needs_background": "light"
     },
     "output_type": "display_data"
    }
   ],
   "source": [
    "fig, (ax0, ax1) = plt.subplots(2,sharex=True)\n",
    "\n",
    "ax0.plot(sol_groundrunV1.t,Knots(sol_groundrunV1.y[0]))\n",
    "ax0.plot(sol_groundrunVr.t,Knots(sol_groundrunVr.y[0]))\n",
    "\n",
    "ax1.plot(sol_groundrunV1.t,sol_groundrunV1.y[1])\n",
    "ax1.plot(sol_groundrunVr.t,sol_groundrunVr.y[1])"
   ]
  },
  {
   "cell_type": "code",
   "execution_count": 209,
   "metadata": {},
   "outputs": [
    {
     "data": {
      "text/plain": [
       "(2745.56462234563, 108.40785504960289)"
      ]
     },
     "execution_count": 209,
     "metadata": {},
     "output_type": "execute_result"
    }
   ],
   "source": [
    "sol_groundrunVr.y[1][-1], sol_groundrunVr.y[0][-1]"
   ]
  },
  {
   "cell_type": "markdown",
   "metadata": {},
   "source": [
    "### Transition / Rotate"
   ]
  },
  {
   "cell_type": "markdown",
   "metadata": {},
   "source": [
    "Remember:\n",
    " - Friction still present in roatation\n",
    " - Change in AoA\n",
    " - Track Angle remains 0\n",
    " "
   ]
  },
  {
   "cell_type": "code",
   "execution_count": 210,
   "metadata": {},
   "outputs": [],
   "source": [
    "# climb_angle = 6\n",
    "# Vmu = np.sqrt((2*m*g)/(rho*S*CL(climb_angle)*np.cos(radian(climb_angle))))\n",
    "# Vlof = 1.05 * Vmu\n",
    "# Vmu, Vlof, V2"
   ]
  },
  {
   "cell_type": "code",
   "execution_count": 211,
   "metadata": {},
   "outputs": [],
   "source": [
    "rotate_rate = 3\n",
    "max_alpha = 6\n",
    "\n",
    "#V_LOF - Lift=Weight\n",
    "def LOF(t,y):\n",
    "#     L = Lift(y[0],y[2])*np.cos(np.radians(y[2]))    \n",
    "#     W = m * g\n",
    "#     return L - W\n",
    "     return y[0] - Vlof\n",
    "\n",
    "LOF.terminal = True\n",
    "\n",
    "def rotate(t,y,t_Vef):\n",
    "    Vx = y[0]\n",
    "    X = y[1]\n",
    "    Alpha = y[2]\n",
    "    \n",
    "    dVxdt = (1/m) * ((SDF_FC(T_L,t_Vef) + T_R)*np.cos(np.radians(Alpha)) - D(Vx,0,Alpha) - D_f(Vx,Alpha))\n",
    "    dXdt = Vx - Vw\n",
    "    \n",
    "    if Alpha < max_alpha:\n",
    "        dAlphadt = rotate_rate\n",
    "    else:\n",
    "        dAlphadt = 0\n",
    "    \n",
    "    return np.array([dVxdt,dXdt,dAlphadt])"
   ]
  },
  {
   "cell_type": "code",
   "execution_count": 212,
   "metadata": {
    "scrolled": true
   },
   "outputs": [],
   "source": [
    "# initial conditions\n",
    "x0  = sol_groundrunVr.y[1][-1] # initial s\n",
    "vx0 = sol_groundrunVr.y[0][-1] # initial v\n",
    "alpha0 = 0\n",
    "\n",
    "# combine s and v into array y0\n",
    "y0 = np.array([vx0,x0,alpha0])\n",
    "sol_rotate = solve_ivp(lambda t, y: rotate(t,y,t_V1),[0,40],y0,rtol=1e-9,max_step = 1e-3,events=[LOF])"
   ]
  },
  {
   "cell_type": "code",
   "execution_count": 213,
   "metadata": {},
   "outputs": [
    {
     "data": {
      "text/plain": [
       "[<matplotlib.lines.Line2D at 0x165f6835a20>]"
      ]
     },
     "execution_count": 213,
     "metadata": {},
     "output_type": "execute_result"
    },
    {
     "data": {
      "image/png": "[encoded data removed]",
      "text/plain": [
       "<Figure size 1080x720 with 3 Axes>"
      ]
     },
     "metadata": {
      "needs_background": "light"
     },
     "output_type": "display_data"
    }
   ],
   "source": [
    "ax0 = plt.subplot(211)\n",
    "ax1 = plt.subplot(223)\n",
    "ax2 = plt.subplot(224)\n",
    "\n",
    "ax0.set_title('Vx')\n",
    "ax0.plot(sol_rotate.t,Knots(sol_rotate.y[0]))\n",
    "ax1.set_title('X')\n",
    "ax1.plot(sol_rotate.t,sol_rotate.y[1])\n",
    "ax2.set_title('alpha')\n",
    "ax2.plot(sol_rotate.t,sol_rotate.y[2])"
   ]
  },
  {
   "cell_type": "markdown",
   "metadata": {},
   "source": [
    "### Climb Out to 35ft"
   ]
  },
  {
   "cell_type": "code",
   "execution_count": 214,
   "metadata": {},
   "outputs": [
    {
     "data": {
      "text/plain": [
       "6.000009307709814"
      ]
     },
     "execution_count": 214,
     "metadata": {},
     "output_type": "execute_result"
    }
   ],
   "source": [
    "alpha = theta = sol_rotate.y[2][-1]\n",
    "alpha"
   ]
  },
  {
   "cell_type": "code",
   "execution_count": 215,
   "metadata": {},
   "outputs": [
    {
     "name": "stdout",
     "output_type": "stream",
     "text": [
      "Wall time: 987 ms\n"
     ]
    }
   ],
   "source": [
    "%%time\n",
    "\n",
    "def ScreenHeight(t,y):\n",
    "    return y[3] - 10.7\n",
    "ScreenHeight.terminal = True\n",
    "\n",
    "def f(t,y):\n",
    "    Vx = y[0]  \n",
    "    Vz = y[1]\n",
    "    X = y[2]              # extract v from array y \n",
    "    H = y[3]\n",
    "    \n",
    "    V = np.sqrt(Vx**2 + Vz**2)\n",
    "\n",
    "    dVxdt = (1/m) * ((0 + T_R)*np.cos(np.radians(theta)) - D(V,0,theta)*np.cos(np.radians(theta)) - Lift(V,theta)*np.sin(np.radians(theta)))\n",
    "    dVzdt = (1/m) * ((0 + T_R)*np.sin(np.radians(theta)) + Lift(V,theta)*np.cos(np.radians(theta)) - m*g - D(V,0,theta)*np.sin(np.radians(theta)))\n",
    "    dXdt = Vx - Vw\n",
    "    dHdt = Vz\n",
    "    \n",
    "    return np.array([dVxdt, dVzdt, dXdt, dHdt]) # return array\n",
    "\n",
    "\n",
    "# initial conditions\n",
    "x0 = sol_rotate.y[1][-1] # initial s\n",
    "vz0 = 0 # initial v\n",
    "h0 = 0\n",
    "vx0 = sol_rotate.y[0][-1]\n",
    "\n",
    "# combine s and v into array y0\n",
    "y0 = np.array([vx0,vz0,x0,h0])\n",
    "\n",
    "sol_LOF = solve_ivp(f,[0,40],y0,rtol=1e-9,max_step = 1e-3,events=[ScreenHeight])"
   ]
  },
  {
   "cell_type": "code",
   "execution_count": 216,
   "metadata": {},
   "outputs": [
    {
     "data": {
      "text/plain": [
       "3397.470168102675"
      ]
     },
     "execution_count": 216,
     "metadata": {},
     "output_type": "execute_result"
    }
   ],
   "source": [
    "sol_LOF.y[2][-1]"
   ]
  },
  {
   "cell_type": "code",
   "execution_count": 217,
   "metadata": {},
   "outputs": [
    {
     "data": {
      "text/plain": [
       "[<matplotlib.lines.Line2D at 0x165f660fa58>]"
      ]
     },
     "execution_count": 217,
     "metadata": {},
     "output_type": "execute_result"
    },
    {
     "data": {
      "image/png": "[encoded data removed]",
      "text/plain": [
       "<Figure size 1080x720 with 4 Axes>"
      ]
     },
     "metadata": {
      "needs_background": "light"
     },
     "output_type": "display_data"
    }
   ],
   "source": [
    "fig, ax = plt.subplots(2,2)\n",
    "\n",
    "ax[0,0].set_title('Vx')\n",
    "ax[0,0].plot(sol_LOF.t,sol_LOF.y[0])\n",
    "ax[0,1].set_title('Vz')\n",
    "ax[0,1].plot(sol_LOF.t,sol_LOF.y[1])\n",
    "ax[1,0].set_title('X')\n",
    "ax[1,0].plot(sol_LOF.t,sol_LOF.y[2])\n",
    "ax[1,1].set_title('H')\n",
    "ax[1,1].plot(sol_LOF.t,sol_LOF.y[3])"
   ]
  },
  {
   "cell_type": "code",
   "execution_count": 219,
   "metadata": {},
   "outputs": [
    {
     "data": {
      "text/plain": [
       "True"
      ]
     },
     "execution_count": 219,
     "metadata": {},
     "output_type": "execute_result"
    }
   ],
   "source": [
    "sol_LOF.y[0][-1] > V2"
   ]
  },
  {
   "cell_type": "markdown",
   "metadata": {},
   "source": [
    "<hr style=\"height:1px;border-width:0;color:black;background-color:black\">"
   ]
  },
  {
   "cell_type": "code",
   "execution_count": null,
   "metadata": {},
   "outputs": [],
   "source": []
  },
  {
   "cell_type": "markdown",
   "metadata": {},
   "source": [
    "# Notes"
   ]
  },
  {
   "cell_type": "markdown",
   "metadata": {},
   "source": [
    "Longer Runways, constraint will be takeoff distance, as plenty of space to stop, see EGLL runway length 3660m for example gives V1 ~215/216 kts, but V2 is ~212kts, Vs ~ 177kts, so will have already left ground by this time\n",
    "\n",
    "However, shorter runways stop distance is more critical as V1 in stop scenario will be very similar to the Go scenario"
   ]
  },
  {
   "cell_type": "markdown",
   "metadata": {},
   "source": []
  },
  {
   "cell_type": "markdown",
   "metadata": {},
   "source": [
    "V1 is the maximum speed that can reached and stop the aircraft on the runway.\n",
    "\n",
    "V1 is the minimum speed needed to be able to continue the takeoff safely with an engine failure\n"
   ]
  },
  {
   "cell_type": "markdown",
   "metadata": {},
   "source": [
    "at what speed can an engine fail and the aircraft still takeoff to V2"
   ]
  },
  {
   "cell_type": "code",
   "execution_count": null,
   "metadata": {},
   "outputs": [],
   "source": []
  }
 ],
 "metadata": {
  "kernelspec": {
   "display_name": "Python 3",
   "language": "python",
   "name": "python3"
  },
  "language_info": {
   "codemirror_mode": {
    "name": "ipython",
    "version": 3
   },
   "file_extension": ".py",
   "mimetype": "text/x-python",
   "name": "python",
   "nbconvert_exporter": "python",
   "pygments_lexer": "ipython3",
   "version": "3.7.3"
  }
 },
 "nbformat": 4,
 "nbformat_minor": 4
}
