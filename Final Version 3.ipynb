{
 "cells": [
  {
   "cell_type": "markdown",
   "metadata": {},
   "source": [
    "# Final Version 3"
   ]
  },
  {
   "cell_type": "markdown",
   "metadata": {},
   "source": [
    "<b><i> Identified [Aim](#aim) of the project as, see link to later in document"
   ]
  },
  {
   "cell_type": "markdown",
   "metadata": {},
   "source": [
    "### External Modules"
   ]
  },
  {
   "cell_type": "code",
   "execution_count": 1,
   "metadata": {},
   "outputs": [],
   "source": [
    "import numpy as np\n",
    "import pandas as pd\n",
    "import ADRpy as ADR\n",
    "import matplotlib.pyplot as plt\n",
    "from scipy.integrate import solve_ivp"
   ]
  },
  {
   "cell_type": "code",
   "execution_count": 2,
   "metadata": {},
   "outputs": [],
   "source": [
    "plt.rcParams[\"figure.figsize\"]=15,10 #Set plot size\n",
    "plt.rcParams.update({'font.size': 16}) #set plot size font\n",
    "plt.rcParams.update({\"axes.grid\" : True, \"grid.color\": \"lightgrey\"}) #Add grid lines to plot"
   ]
  },
  {
   "cell_type": "markdown",
   "metadata": {},
   "source": [
    "### Conversions"
   ]
  },
  {
   "cell_type": "code",
   "execution_count": 3,
   "metadata": {},
   "outputs": [],
   "source": [
    "def Knots(MS):\n",
    "    return MS / 0.5144\n",
    "\n",
    "def MS(Knots):\n",
    "    return Knots * 0.5144\n",
    "\n",
    "def radian(degree):\n",
    "    return degree * np.pi/180"
   ]
  },
  {
   "cell_type": "markdown",
   "metadata": {},
   "source": [
    "### Environment Parameters"
   ]
  },
  {
   "cell_type": "code",
   "execution_count": 4,
   "metadata": {},
   "outputs": [],
   "source": [
    "g = 9.81        #Gravitational Constant\n",
    "rho = 1.225\n",
    "\n",
    "# Wind Speed / Direcion\n",
    "#     Headwind +ve\n",
    "#     Cross wind +ve from right\n",
    "w_vel = 0\n",
    "w_deg = 0\n",
    "\n",
    "mu = 0.05    #Driction Coefficient to Runway Surface\n",
    "\n",
    "#Possibly ovveride given rho (using ISA altitudes)\n",
    "temp_c = 15     #Airfield OAT temperacture in celcius\n",
    "alt_ft = 83     #Airfield (runway) altitude in feet\n",
    "RunwayLength = 1650"
   ]
  },
  {
   "cell_type": "code",
   "execution_count": 5,
   "metadata": {},
   "outputs": [],
   "source": [
    "Vw = MS(5) #5 kt headwind"
   ]
  },
  {
   "cell_type": "markdown",
   "metadata": {},
   "source": [
    "<div class=\"alert alert-block alert-info\">\n",
    "Reasonable approximation of g to 9.81 as still very close to this. Density can be resonably approximated to 1.225 as very close to sea level given in relation. only change to the density will come from the temperature change, so use of ADRpy to calculate is ideal, on standard ISA non-offset (research into the offset and why used should be looked at)\n",
    "</div>"
   ]
  },
  {
   "cell_type": "markdown",
   "metadata": {},
   "source": [
    "### Aircraft Parameters"
   ]
  },
  {
   "cell_type": "markdown",
   "metadata": {},
   "source": [
    "#### Airframe"
   ]
  },
  {
   "cell_type": "code",
   "execution_count": 6,
   "metadata": {},
   "outputs": [],
   "source": [
    "m = 78000        #Mass\n",
    "\n",
    "S = 122.6        #Wing Area\n",
    "h_W = 3.38      #Height of wing above the ground\n",
    "\n",
    "b = 34.1       #Wingspan\n",
    "\n",
    "c = S/b       #Chord length"
   ]
  },
  {
   "cell_type": "code",
   "execution_count": 7,
   "metadata": {},
   "outputs": [],
   "source": [
    "A = (b**2)/S\n",
    "e = 0.85\n",
    "a0 = 2*np.pi\n",
    "alpha_0L = - radian(2)\n",
    "\n",
    "def CL(alpha):\n",
    "    alpha1 = radian(alpha)\n",
    "    return a0 * ((np.pi*A*e)/(np.pi*A*e + a0)) * (alpha1 - alpha_0L)\n",
    "\n",
    "#def Cl(alpha):\n",
    "#    a0 = 2*np.pi\n",
    "#    alpha0 = radian(2)\n",
    "#    \n",
    "#    return a0*(alpha + alpha0/57.3)"
   ]
  },
  {
   "cell_type": "code",
   "execution_count": 8,
   "metadata": {},
   "outputs": [],
   "source": [
    "CD0 = 0.02"
   ]
  },
  {
   "cell_type": "markdown",
   "metadata": {},
   "source": [
    "#### Engine"
   ]
  },
  {
   "cell_type": "code",
   "execution_count": 9,
   "metadata": {},
   "outputs": [],
   "source": [
    "T = 120.6 * 1e3     #Thrust per engine\n",
    "n_e = 2   #Number of engines (evenly distributed per wing (i.e. 2 engines = 1 per wing))"
   ]
  },
  {
   "cell_type": "markdown",
   "metadata": {},
   "source": [
    "### Engine Failure Parameters  (likely not be necessary*)\n",
    "<i>* Due to running a balanced field model, engine failure is automatically used in calculating this, as such the needed for a failure speed isn't required (this will be covered by the calculated V1 speed). `However, the engine that fails is a parameter that will likely be used and will be an input controlled by the overall Monte Carlo analysis`"
   ]
  },
  {
   "cell_type": "code",
   "execution_count": 10,
   "metadata": {},
   "outputs": [],
   "source": [
    "V_fail = 0    #Speed at which failure occurs\n",
    "E_Ident = 0   #Engine Number to fail"
   ]
  },
  {
   "cell_type": "markdown",
   "metadata": {},
   "source": [
    "<hr style=\"height:1px;border-width:0;color:black;background-color:black\">"
   ]
  },
  {
   "cell_type": "markdown",
   "metadata": {},
   "source": [
    "### Key Functions"
   ]
  },
  {
   "cell_type": "markdown",
   "metadata": {},
   "source": [
    "- Lift\n",
    "- Drag\n",
    "- Ground Effect\n",
    "- Friction\n",
    "- Induced Drag\n",
    "- phi\n",
    "<br>\n",
    "\n",
    "* ODEs for:\n",
    "    * Velocity\n",
    "    * Distance travelled"
   ]
  },
  {
   "cell_type": "markdown",
   "metadata": {},
   "source": [
    "<div class=\"alert alert-block alert-warning\">\n",
    "Check definition of lift when using total Cl (i.e. when tail is included as well, which S is needed)\n",
    "</div>\n",
    "<div class=\"alert alert-block alert-warning\">\n",
    "Define Drag components seperately (Profile, Induced, Friction etc.) so that ODEs for the different stages can be more easily defined\n",
    "</div>"
   ]
  },
  {
   "cell_type": "code",
   "execution_count": 11,
   "metadata": {},
   "outputs": [],
   "source": [
    "def Lift(V,alpha):\n",
    "    return 0.5 * rho * V**2 * S * CL(alpha)\n",
    "\n",
    "def D(V,h,alpha):\n",
    "    return 0.5 * rho * V**2 * S * (CD0 + phi(h) * (CL(alpha)**2)/(np.pi * e * A))\n",
    "\n",
    "def D_f(V,alpha):\n",
    "    R = m*g - Lift(V,alpha)\n",
    "    return mu * R\n",
    "\n",
    "def phi(h_alt):\n",
    "    h = h_alt + h_W\n",
    "    return ((16*h/b)**2)/((1+((16*h/b)**2)))"
   ]
  },
  {
   "cell_type": "markdown",
   "metadata": {},
   "source": [
    "`Introduction to Flight pg 320` <br>\n",
    "$\\phi = \\large\\frac{(16 h/b)^{2}}{1+(16 h/b)^{2}}$"
   ]
  },
  {
   "cell_type": "markdown",
   "metadata": {},
   "source": [
    "<hr style=\"height:1px;border-width:0;color:black;background-color:black\">"
   ]
  },
  {
   "cell_type": "markdown",
   "metadata": {},
   "source": [
    "### Calculating Stall Speed"
   ]
  },
  {
   "cell_type": "markdown",
   "metadata": {},
   "source": [
    "For stall speed, the lift equals the weight of the aircraft. i.e $L=\\frac{1}{2}\\rho V^{2}C_{L}S=W=mg$\n",
    "<br> \n",
    "Rearranging for V: $V= \\sqrt{\\frac{2mg}{\\rho C_{L}S}}$"
   ]
  },
  {
   "cell_type": "code",
   "execution_count": 12,
   "metadata": {},
   "outputs": [
    {
     "data": {
      "text/plain": [
       "176.93397801231106"
      ]
     },
     "execution_count": 12,
     "metadata": {},
     "output_type": "execute_result"
    }
   ],
   "source": [
    "CL_max = CL(12)\n",
    "\n",
    "V_s = np.sqrt((2*m*g)/(rho * S * CL_max))\n",
    "Knots(V_s)"
   ]
  },
  {
   "cell_type": "markdown",
   "metadata": {},
   "source": [
    "### Calculating Rotation Speed"
   ]
  },
  {
   "cell_type": "code",
   "execution_count": 13,
   "metadata": {},
   "outputs": [
    {
     "data": {
      "text/plain": [
       "(212.32077361477326, 109.21780594743936)"
      ]
     },
     "execution_count": 13,
     "metadata": {},
     "output_type": "execute_result"
    }
   ],
   "source": [
    "V2 = 1.2 * V_s\n",
    "Knots(V2), V2"
   ]
  },
  {
   "cell_type": "markdown",
   "metadata": {},
   "source": [
    "#### Key Speeds:\n",
    "- Vr : Speed at which rotation is initiated so that aircraft clears 35ft screen height\n",
    "- V1 : Decision speed, maximum speed for Rejected Take Off\n",
    "- V2 : Min climb speed OEO, must be reached by 35ft\n",
    "- Vs : Stall Speed @ max CL\n",
    "- VLOF : Aircraft leaves the ground"
   ]
  },
  {
   "cell_type": "markdown",
   "metadata": {},
   "source": [
    "<div class=\"alert alert-block alert-info\">\n",
    "V1 is found by conducting the balanced field investigation for the parameters entered. <br><br> <a id='aim'></a><b> Aim to create a monte carlo analysis of balanced field lengths for a number of different aircraft parameters (should be able to input array for each of the paramters listed under Aircraft Parameters and Environmental Parameters sections above </b>\n",
    "</div>"
   ]
  },
  {
   "cell_type": "markdown",
   "metadata": {},
   "source": [
    "<hr style=\"height:1px;border-width:0;color:black;background-color:black\">"
   ]
  },
  {
   "cell_type": "code",
   "execution_count": 14,
   "metadata": {},
   "outputs": [],
   "source": [
    "Failed_Engine = \"N\" #N - No failure, #L{0} - Left Failure & how many, #R{0} - Right Failure & how many"
   ]
  },
  {
   "cell_type": "code",
   "execution_count": 15,
   "metadata": {},
   "outputs": [
    {
     "data": {
      "text/plain": [
       "(120600.0, 120600.0)"
      ]
     },
     "execution_count": 15,
     "metadata": {},
     "output_type": "execute_result"
    }
   ],
   "source": [
    "#Total engine thrust (per side?)\n",
    "#T_L = (n_e / 2) * T\n",
    "#T_R = (n_e / 2) * T\n",
    "\n",
    "Failed_Engine = Failed_Engine.upper()\n",
    "\n",
    "if Failed_Engine == \"N\":\n",
    "    T_L = T_R = (n_e / 2) * T\n",
    "    \n",
    "elif 'L' in Failed_Engine:\n",
    "    e_p = n_e / 2\n",
    "    T_L = (e_p - int(Failed_Engine[1:])) * T\n",
    "    T_R = (n_e / 2) * T\n",
    "else:\n",
    "    e_p = n_e / 2\n",
    "    T_L = (n_e / 2) * T\n",
    "    T_R = (e_p - int(Failed_Engine[1:])) * T\n",
    "T_L, T_R"
   ]
  },
  {
   "cell_type": "markdown",
   "metadata": {},
   "source": [
    "# AEO (Euler Time-Stepping)"
   ]
  },
  {
   "cell_type": "markdown",
   "metadata": {
    "tags": [
     "hide-cell"
    ]
   },
   "source": [
    "## Accelerate - Stop"
   ]
  },
  {
   "cell_type": "markdown",
   "metadata": {
    "jupyter": {
     "source_hidden": true
    },
    "tags": [
     "hide-cell"
    ]
   },
   "source": [
    "### Accelerate"
   ]
  },
  {
   "cell_type": "code",
   "execution_count": 16,
   "metadata": {
    "jupyter": {
     "source_hidden": true
    },
    "tags": [
     "hide-cell"
    ]
   },
   "outputs": [
    {
     "name": "stdout",
     "output_type": "stream",
     "text": [
      "Wall time: 10.9 s\n"
     ]
    }
   ],
   "source": [
    "%%time\n",
    "V_abort = 150\n",
    "\n",
    "def rollout(t,y):\n",
    "    Vx = y[0]\n",
    "    X = y[1]\n",
    "    \n",
    "    dVxdt = (1/m) * ((T_L + T_R) - D(Vx,0,0) - D_f(Vx,0))\n",
    "    dXdt = Vx - Vw\n",
    "    \n",
    "    return np.array([dVxdt,dXdt])\n",
    "\n",
    "def Abort(t,y):\n",
    "    Vx = y[0]\n",
    "    return Vx - MS(V_abort)\n",
    "Abort.terminal = True\n",
    "\n",
    "x0 = 0\n",
    "v0 = 0\n",
    "y0 = np.array([v0,x0])\n",
    "\n",
    "sol_rollout = solve_ivp(rollout,[0,40],y0,rtol=1e-9,max_step=1e-3,events=[Abort])"
   ]
  },
  {
   "cell_type": "code",
   "execution_count": 17,
   "metadata": {
    "collapsed": true,
    "jupyter": {
     "outputs_hidden": true,
     "source_hidden": true
    }
   },
   "outputs": [
    {
     "name": "stdout",
     "output_type": "stream",
     "text": [
      "Vx :  77.16\n",
      "X  :  1082.6835319866543\n",
      "t  :  29.923791281266695\n"
     ]
    }
   ],
   "source": [
    "print('Vx : ', sol_rollout.y[0][-1])\n",
    "print('X  : ', sol_rollout.y[1][-1])\n",
    "print('t  : ', sol_rollout.t[-1])"
   ]
  },
  {
   "cell_type": "code",
   "execution_count": 18,
   "metadata": {
    "collapsed": true,
    "jupyter": {
     "outputs_hidden": true,
     "source_hidden": true
    }
   },
   "outputs": [
    {
     "data": {
      "image/png": "[encoded data removed]",
      "text/plain": [
       "<Figure size 1080x720 with 1 Axes>"
      ]
     },
     "metadata": {
      "needs_background": "light"
     },
     "output_type": "display_data"
    },
    {
     "data": {
      "image/png": "[encoded data removed]",
      "text/plain": [
       "<Figure size 1080x720 with 1 Axes>"
      ]
     },
     "metadata": {
      "needs_background": "light"
     },
     "output_type": "display_data"
    }
   ],
   "source": [
    "plt.plot(sol_rollout.t,Knots(sol_rollout.y[0]))\n",
    "plt.plot([0,sol_rollout.t[-1]+1],[V_abort,V_abort])\n",
    "plt.show()\n",
    "plt.plot(sol_rollout.t,sol_rollout.y[1])\n",
    "plt.show()"
   ]
  },
  {
   "cell_type": "markdown",
   "metadata": {
    "jupyter": {
     "source_hidden": true
    }
   },
   "source": [
    "### Stopping"
   ]
  },
  {
   "cell_type": "code",
   "execution_count": 19,
   "metadata": {
    "collapsed": true,
    "jupyter": {
     "outputs_hidden": true,
     "source_hidden": true
    }
   },
   "outputs": [
    {
     "name": "stdout",
     "output_type": "stream",
     "text": [
      "Wall time: 2.25 s\n"
     ]
    }
   ],
   "source": [
    "%%time\n",
    "def brake(t,y):\n",
    "    Vx = y[0]\n",
    "    X = y[1]\n",
    "    \n",
    "    dVxdt = -0.5 * g\n",
    "    dXdt = Vx - Vw\n",
    "    \n",
    "    return np.array([dVxdt,dXdt])\n",
    "\n",
    "def stop(t,y):\n",
    "    Vx = y[0]\n",
    "    return Vx\n",
    "stop.terminal = True\n",
    "\n",
    "x0 = sol_rollout.y[1][-1]\n",
    "v0 = sol_rollout.y[0][-1]\n",
    "y0 = np.array([v0,x0])\n",
    "\n",
    "sol_brake = solve_ivp(brake,[0,40],y0,rtol=1e-9,max_step=1e-3,events=[stop])"
   ]
  },
  {
   "cell_type": "code",
   "execution_count": 20,
   "metadata": {
    "collapsed": true,
    "jupyter": {
     "outputs_hidden": true,
     "source_hidden": true
    }
   },
   "outputs": [
    {
     "data": {
      "text/plain": [
       "15.730886850155589"
      ]
     },
     "execution_count": 20,
     "metadata": {},
     "output_type": "execute_result"
    }
   ],
   "source": [
    "sol_brake.t[-1]"
   ]
  },
  {
   "cell_type": "code",
   "execution_count": 21,
   "metadata": {
    "collapsed": true,
    "jupyter": {
     "outputs_hidden": true,
     "source_hidden": true
    }
   },
   "outputs": [
    {
     "data": {
      "image/png": "[encoded data removed]",
      "text/plain": [
       "<Figure size 1080x720 with 1 Axes>"
      ]
     },
     "metadata": {
      "needs_background": "light"
     },
     "output_type": "display_data"
    },
    {
     "data": {
      "image/png": "[encoded data removed]",
      "text/plain": [
       "<Figure size 1080x720 with 1 Axes>"
      ]
     },
     "metadata": {
      "needs_background": "light"
     },
     "output_type": "display_data"
    }
   ],
   "source": [
    "plt.plot(sol_brake.t,Knots(sol_brake.y[0]))\n",
    "plt.show()\n",
    "plt.plot(sol_brake.t,sol_brake.y[1])\n",
    "plt.show()"
   ]
  },
  {
   "cell_type": "code",
   "execution_count": 22,
   "metadata": {
    "collapsed": true,
    "jupyter": {
     "outputs_hidden": true,
     "source_hidden": true
    }
   },
   "outputs": [
    {
     "name": "stdout",
     "output_type": "stream",
     "text": [
      "Run stopped at 15.730887\n",
      "Run length     1649.121306\n"
     ]
    }
   ],
   "source": [
    "print('Run stopped at {:.6f}'.format(sol_brake.t[-1]))\n",
    "print('Run length     {:.6f}'.format(sol_brake.y[1][-1]))"
   ]
  },
  {
   "cell_type": "code",
   "execution_count": null,
   "metadata": {
    "jupyter": {
     "source_hidden": true
    }
   },
   "outputs": [],
   "source": []
  },
  {
   "cell_type": "markdown",
   "metadata": {},
   "source": [
    "## Take-off to 35ft"
   ]
  },
  {
   "cell_type": "markdown",
   "metadata": {
    "jupyter": {
     "source_hidden": true
    }
   },
   "source": [
    "Notes:\n",
    " - For engine failure, thrust is dependent on the velocity, cut engine at speed just after V1"
   ]
  },
  {
   "cell_type": "markdown",
   "metadata": {
    "jupyter": {
     "source_hidden": true
    }
   },
   "source": [
    "### Ground Run"
   ]
  },
  {
   "cell_type": "code",
   "execution_count": 23,
   "metadata": {
    "collapsed": true,
    "jupyter": {
     "outputs_hidden": true,
     "source_hidden": true
    }
   },
   "outputs": [
    {
     "name": "stdout",
     "output_type": "stream",
     "text": [
      "Wall time: 6.95 s\n"
     ]
    }
   ],
   "source": [
    "%%time\n",
    "\n",
    "def rollout(t,y):\n",
    "    Vx = y[0]\n",
    "    X = y[1]\n",
    "    \n",
    "    dVxdt = (1/m) * ((T_L + T_R) - D(Vx,0,0) - D_f(Vx,0))\n",
    "    dXdt = Vx - Vw\n",
    "    \n",
    "    return np.array([dVxdt,dXdt])\n",
    "\n",
    "Vr = 170\n",
    "\n",
    "def Vr_set(t,y):\n",
    "    Vx = y[0]\n",
    "    return Vx - MS(Vr)\n",
    "Vr_set.terminal = True\n",
    "\n",
    "x0 = 0\n",
    "v0 = 0\n",
    "y0 = np.array([v0,x0])\n",
    "\n",
    "sol_rollout = solve_ivp(rollout,[0,50],y0,rtol=1e-9,max_step=1e-3,events=[Vr_set])"
   ]
  },
  {
   "cell_type": "code",
   "execution_count": 24,
   "metadata": {
    "collapsed": true,
    "jupyter": {
     "outputs_hidden": true,
     "source_hidden": true
    }
   },
   "outputs": [
    {
     "name": "stdout",
     "output_type": "stream",
     "text": [
      "Vx :  87.44799999999998\n",
      "X  :  1407.849024084524\n"
     ]
    }
   ],
   "source": [
    "print('Vx : ', sol_rollout.y[0][-1])\n",
    "print('X  : ', sol_rollout.y[1][-1])"
   ]
  },
  {
   "cell_type": "code",
   "execution_count": 25,
   "metadata": {
    "collapsed": true,
    "jupyter": {
     "outputs_hidden": true,
     "source_hidden": true
    }
   },
   "outputs": [
    {
     "data": {
      "image/png": "[encoded data removed]",
      "text/plain": [
       "<Figure size 1080x720 with 1 Axes>"
      ]
     },
     "metadata": {
      "needs_background": "light"
     },
     "output_type": "display_data"
    },
    {
     "data": {
      "image/png": "[encoded data removed]",
      "text/plain": [
       "<Figure size 1080x720 with 1 Axes>"
      ]
     },
     "metadata": {
      "needs_background": "light"
     },
     "output_type": "display_data"
    }
   ],
   "source": [
    "plt.plot(sol_rollout.t,Knots(sol_rollout.y[0]))\n",
    "plt.plot([0,sol_rollout.t[-1]+1],[Vr,Vr])\n",
    "plt.show()\n",
    "plt.plot(sol_rollout.t,sol_rollout.y[1])\n",
    "plt.show()"
   ]
  },
  {
   "cell_type": "markdown",
   "metadata": {
    "jupyter": {
     "source_hidden": true
    }
   },
   "source": [
    "### Transition / Rotate"
   ]
  },
  {
   "cell_type": "markdown",
   "metadata": {
    "jupyter": {
     "source_hidden": true
    }
   },
   "source": [
    "Remember:\n",
    " - Friction still present in roatation\n",
    " - Change in AoA\n",
    " - Track Angle remains 0\n",
    " "
   ]
  },
  {
   "cell_type": "code",
   "execution_count": 26,
   "metadata": {
    "jupyter": {
     "source_hidden": true
    }
   },
   "outputs": [],
   "source": [
    "rotate_rate = 5\n",
    "\n",
    "#V_LOF - Lift=Weight\n",
    "def LOF(t,y):\n",
    "    L = Lift(y[0],y[2])*np.cos(np.radians(y[2]))    \n",
    "    W = m * g\n",
    "    return L - W\n",
    "LOF.terminal = True\n",
    "\n",
    "def rotate(t,y):\n",
    "    Vx = y[0]\n",
    "    X = y[1]\n",
    "    Alpha = y[2]\n",
    "    \n",
    "    dVxdt = (1/m) * ((T_L + T_R)*np.cos(np.radians(Alpha)) - D(Vx,0,Alpha) - D_f(Vx,Alpha))\n",
    "    dAlphadt = rotate_rate\n",
    "    dXdt = Vx - Vw\n",
    "    \n",
    "    return np.array([dVxdt,dXdt,dAlphadt])"
   ]
  },
  {
   "cell_type": "code",
   "execution_count": 27,
   "metadata": {
    "jupyter": {
     "source_hidden": true
    },
    "scrolled": true
   },
   "outputs": [],
   "source": [
    "# initial conditions\n",
    "x0  = sol_rollout.y[1][-1] # initial s\n",
    "vx0 = sol_rollout.y[0][-1] # initial v\n",
    "alpha0 = 0\n",
    "\n",
    "# combine s and v into array y0\n",
    "y0 = np.array([vx0,x0,alpha0])\n",
    "\n",
    "sol_rotate = solve_ivp(rotate,[0,20],y0,rtol=1e-9,max_step = 1e-3,events=[LOF])"
   ]
  },
  {
   "cell_type": "code",
   "execution_count": 28,
   "metadata": {
    "collapsed": true,
    "jupyter": {
     "outputs_hidden": true,
     "source_hidden": true
    }
   },
   "outputs": [
    {
     "data": {
      "image/png": "[encoded data removed]",
      "text/plain": [
       "<Figure size 1080x720 with 1 Axes>"
      ]
     },
     "metadata": {
      "needs_background": "light"
     },
     "output_type": "display_data"
    },
    {
     "data": {
      "image/png": "[encoded data removed]",
      "text/plain": [
       "<Figure size 1080x720 with 1 Axes>"
      ]
     },
     "metadata": {
      "needs_background": "light"
     },
     "output_type": "display_data"
    },
    {
     "data": {
      "image/png": "[encoded data removed]",
      "text/plain": [
       "<Figure size 1080x720 with 1 Axes>"
      ]
     },
     "metadata": {
      "needs_background": "light"
     },
     "output_type": "display_data"
    }
   ],
   "source": [
    "plt.plot(sol_rotate.t,sol_rotate.y[0]) # vx\n",
    "plt.show()\n",
    "plt.plot(sol_rotate.t,sol_rotate.y[1]) # x\n",
    "plt.show()\n",
    "plt.plot(sol_rotate.t,sol_rotate.y[2]) # alpha\n",
    "plt.show()\n",
    "#plt.plot(sol_rotate.t,sol_rotate.y[2] / (np.pi/180))\n",
    "#plt.show()"
   ]
  },
  {
   "cell_type": "markdown",
   "metadata": {
    "jupyter": {
     "source_hidden": true
    }
   },
   "source": [
    "### Climb Out to 35ft"
   ]
  },
  {
   "cell_type": "code",
   "execution_count": 29,
   "metadata": {
    "collapsed": true,
    "jupyter": {
     "outputs_hidden": true,
     "source_hidden": true
    }
   },
   "outputs": [
    {
     "data": {
      "text/plain": [
       "11.570917934029483"
      ]
     },
     "execution_count": 29,
     "metadata": {},
     "output_type": "execute_result"
    }
   ],
   "source": [
    "alpha = theta = sol_rotate.y[2][-1]\n",
    "alpha"
   ]
  },
  {
   "cell_type": "code",
   "execution_count": 30,
   "metadata": {
    "collapsed": true,
    "jupyter": {
     "outputs_hidden": true,
     "source_hidden": true
    }
   },
   "outputs": [
    {
     "name": "stdout",
     "output_type": "stream",
     "text": [
      "Wall time: 2.34 s\n"
     ]
    }
   ],
   "source": [
    "%%time\n",
    "\n",
    "def ScreenHeight(t,y):\n",
    "    return y[3] - 10.7\n",
    "ScreenHeight.terminal = True\n",
    "\n",
    "def f(t,y):\n",
    "    Vx = y[0]  \n",
    "    Vz = y[1]\n",
    "    X = y[2]              # extract v from array y \n",
    "    H = y[3]\n",
    "    \n",
    "    V = np.sqrt(Vx**2 + Vz**2)\n",
    "\n",
    "    dVxdt = (1/m) * ((T_L + T_R)*np.cos(np.radians(theta)) - D(V,0,theta)*np.cos(np.radians(theta)) - Lift(V,theta)*np.sin(np.radians(theta)))\n",
    "    dVzdt = (1/m) * ((T_L + T_R)*np.sin(np.radians(theta)) + Lift(V,theta)*np.cos(np.radians(theta)) - m*g - D(V,0,theta)*np.sin(np.radians(theta)))\n",
    "    dXdt = Vx - Vw\n",
    "    dHdt = Vz\n",
    "    \n",
    "    return np.array([dVxdt, dVzdt, dXdt, dHdt]) # return array\n",
    "\n",
    "\n",
    "# initial conditions\n",
    "x0 = sol_rotate.y[1][-1] # initial s\n",
    "vz0 = 0 # initial v\n",
    "h0 = 0\n",
    "vx0 = sol_rotate.y[0][-1]\n",
    "\n",
    "# combine s and v into array y0\n",
    "y0 = np.array([vx0,vz0,x0,h0])\n",
    "\n",
    "sol_LOF = solve_ivp(f,[0,40],y0,rtol=1e-9,max_step = 1e-3,events=[ScreenHeight])"
   ]
  },
  {
   "cell_type": "code",
   "execution_count": 31,
   "metadata": {
    "collapsed": true,
    "jupyter": {
     "outputs_hidden": true,
     "source_hidden": true
    }
   },
   "outputs": [
    {
     "data": {
      "image/png": "[encoded data removed]",
      "text/plain": [
       "<Figure size 1080x720 with 1 Axes>"
      ]
     },
     "metadata": {
      "needs_background": "light"
     },
     "output_type": "display_data"
    },
    {
     "data": {
      "image/png": "[encoded data removed]",
      "text/plain": [
       "<Figure size 1080x720 with 1 Axes>"
      ]
     },
     "metadata": {
      "needs_background": "light"
     },
     "output_type": "display_data"
    },
    {
     "data": {
      "image/png": "[encoded data removed]",
      "text/plain": [
       "<Figure size 1080x720 with 1 Axes>"
      ]
     },
     "metadata": {
      "needs_background": "light"
     },
     "output_type": "display_data"
    },
    {
     "data": {
      "image/png": "[encoded data removed]",
      "text/plain": [
       "<Figure size 1080x720 with 1 Axes>"
      ]
     },
     "metadata": {
      "needs_background": "light"
     },
     "output_type": "display_data"
    }
   ],
   "source": [
    "plt.title('Vx')\n",
    "plt.plot(sol_LOF.t,sol_LOF.y[0])\n",
    "plt.show()\n",
    "plt.title('Vz')\n",
    "plt.plot(sol_LOF.t,sol_LOF.y[1])\n",
    "plt.show()\n",
    "plt.title('X')\n",
    "plt.plot(sol_LOF.t,sol_LOF.y[2])\n",
    "plt.show()\n",
    "plt.title('H')\n",
    "plt.plot(sol_LOF.t,sol_LOF.y[3])\n",
    "plt.show()"
   ]
  },
  {
   "cell_type": "code",
   "execution_count": 32,
   "metadata": {
    "collapsed": true,
    "jupyter": {
     "outputs_hidden": true,
     "source_hidden": true
    }
   },
   "outputs": [
    {
     "data": {
      "image/png": "[encoded data removed]",
      "text/plain": [
       "<Figure size 1080x720 with 1 Axes>"
      ]
     },
     "metadata": {
      "needs_background": "light"
     },
     "output_type": "display_data"
    },
    {
     "data": {
      "image/png": "[encoded data removed]",
      "text/plain": [
       "<Figure size 1080x720 with 1 Axes>"
      ]
     },
     "metadata": {
      "needs_background": "light"
     },
     "output_type": "display_data"
    }
   ],
   "source": [
    "plt.plot(sol_LOF.t,sol_LOF.y[0],label = 'Vx')\n",
    "plt.plot(sol_LOF.t,sol_LOF.y[1],label = 'Vz')\n",
    "plt.legend()\n",
    "plt.show()\n",
    "plt.plot(sol_LOF.t,sol_LOF.y[2],label = 'X')\n",
    "plt.plot(sol_LOF.t,sol_LOF.y[3],label = 'H')\n",
    "plt.legend()\n",
    "plt.show()"
   ]
  },
  {
   "cell_type": "code",
   "execution_count": 33,
   "metadata": {
    "collapsed": true,
    "jupyter": {
     "outputs_hidden": true,
     "source_hidden": true
    }
   },
   "outputs": [
    {
     "data": {
      "text/plain": [
       "2117.31742424723"
      ]
     },
     "execution_count": 33,
     "metadata": {},
     "output_type": "execute_result"
    }
   ],
   "source": [
    "sol_LOF.y[2][-1]"
   ]
  },
  {
   "cell_type": "code",
   "execution_count": 34,
   "metadata": {
    "collapsed": true,
    "jupyter": {
     "outputs_hidden": true,
     "source_hidden": true
    }
   },
   "outputs": [
    {
     "data": {
      "text/plain": [
       "186.407339876887"
      ]
     },
     "execution_count": 34,
     "metadata": {},
     "output_type": "execute_result"
    }
   ],
   "source": [
    "Knots(sol_LOF.y[0][-1])"
   ]
  },
  {
   "cell_type": "code",
   "execution_count": 35,
   "metadata": {
    "collapsed": true,
    "jupyter": {
     "outputs_hidden": true,
     "source_hidden": true
    }
   },
   "outputs": [
    {
     "data": {
      "text/plain": [
       "8.54199463113111"
      ]
     },
     "execution_count": 35,
     "metadata": {},
     "output_type": "execute_result"
    }
   ],
   "source": [
    "Knots(sol_LOF.y[1][-1])"
   ]
  },
  {
   "cell_type": "code",
   "execution_count": 36,
   "metadata": {
    "collapsed": true,
    "jupyter": {
     "outputs_hidden": true,
     "source_hidden": true
    }
   },
   "outputs": [
    {
     "data": {
      "text/plain": [
       "186.60295290336524"
      ]
     },
     "execution_count": 36,
     "metadata": {},
     "output_type": "execute_result"
    }
   ],
   "source": [
    "np.sqrt((Knots(sol_LOF.y[0][-1]))**2+(Knots(sol_LOF.y[1][-1]))**2)"
   ]
  },
  {
   "cell_type": "code",
   "execution_count": 37,
   "metadata": {
    "jupyter": {
     "source_hidden": true
    }
   },
   "outputs": [],
   "source": [
    "at = np.arctan(sol_LOF.y[1][-1]/sol_LOF.y[0][-1])"
   ]
  },
  {
   "cell_type": "code",
   "execution_count": 38,
   "metadata": {
    "collapsed": true,
    "jupyter": {
     "outputs_hidden": true,
     "source_hidden": true
    }
   },
   "outputs": [
    {
     "data": {
      "text/plain": [
       "2.62370622954876"
      ]
     },
     "execution_count": 38,
     "metadata": {},
     "output_type": "execute_result"
    }
   ],
   "source": [
    "np.degrees(at)"
   ]
  },
  {
   "cell_type": "markdown",
   "metadata": {
    "jupyter": {
     "source_hidden": true
    }
   },
   "source": [
    "pitch angle / track angle / speed / speed at screen height"
   ]
  },
  {
   "cell_type": "markdown",
   "metadata": {},
   "source": [
    "# V1 AEO Acc-Stop"
   ]
  },
  {
   "cell_type": "code",
   "execution_count": 17,
   "metadata": {},
   "outputs": [
    {
     "name": "stdout",
     "output_type": "stream",
     "text": [
      "Wall time: 13.9 s\n"
     ]
    }
   ],
   "source": [
    "%%time\n",
    "V_abort = 150\n",
    "\n",
    "#Acceleration ODEs\n",
    "def accel(t,y):\n",
    "    Vx = y[0]\n",
    "    X = y[1]\n",
    "    \n",
    "    dVxdt = (1/m) * ((T_L + T_R) - D(Vx,0,0) - D_f(Vx,0))\n",
    "    dXdt = Vx - Vw\n",
    "    return np.array([dVxdt,dXdt])\n",
    "\n",
    "#Braking ODEs\n",
    "def brake(t,y):\n",
    "    Vx = y[0]\n",
    "    X = y[1]\n",
    "    \n",
    "    dVxdt = -0.5 * g\n",
    "    dXdt = Vx - Vw\n",
    "    \n",
    "    return np.array([dVxdt,dXdt])\n",
    "\n",
    "#Termination Functions for Abort Speed & Final Stop\n",
    "def Abort(t,y):\n",
    "    Vx = y[0]\n",
    "    return Vx - MS(V_abort)\n",
    "Abort.terminal = True\n",
    "\n",
    "def stop(t,y):\n",
    "    Vx = y[0]\n",
    "    return Vx\n",
    "stop.terminal = True\n",
    "\n",
    "#Initial Conditions\n",
    "#Accelerate\n",
    "x0 = 0\n",
    "v0 = 0\n",
    "y0 = np.array([v0,x0])\n",
    "sol_rollout = solve_ivp(rollout,[0,40],y0,rtol=1e-9,max_step=1e-3,events=[Abort])\n",
    "\n",
    "#Brake\n",
    "x0 = sol_rollout.y[1][-1]\n",
    "v0 = sol_rollout.y[0][-1]\n",
    "y0 = np.array([v0,x0])\n",
    "sol_brake = solve_ivp(brake,[0,40],y0,rtol=1e-9,max_step=1e-3,events=[stop])"
   ]
  },
  {
   "cell_type": "code",
   "execution_count": 18,
   "metadata": {},
   "outputs": [
    {
     "data": {
      "text/plain": [
       "1649.1213056871618"
      ]
     },
     "execution_count": 18,
     "metadata": {},
     "output_type": "execute_result"
    }
   ],
   "source": [
    "sol_brake.y[1][-1]"
   ]
  },
  {
   "cell_type": "code",
   "execution_count": 19,
   "metadata": {},
   "outputs": [],
   "source": [
    "def find_V1(V_t):\n",
    "    def V1Abort(t,y):\n",
    "        Vx = y[0]\n",
    "        return Vx - MS(V_t)\n",
    "    V1Abort.terminal = True\n",
    "\n",
    "    print(V_t)\n",
    "    \n",
    "    x0 = 0\n",
    "    v0 = 0\n",
    "    y0 = np.array([v0,x0])\n",
    "    sol_accel = solve_ivp(accel,[0,100],y0,rtol=1e-9,max_step=1e-3,events=[V1Abort])\n",
    "\n",
    "    x0 = sol_accel.y[1][-1]\n",
    "    v0 = sol_accel.y[0][-1]\n",
    "    y0 = np.array([v0,x0])\n",
    "    sol_brake = solve_ivp(brake,[0,100],y0,rtol=1e-9,max_step=1e-3,events=[stop])\n",
    "    \n",
    "    return sol_brake.y[1][-1] - RunwayLength"
   ]
  },
  {
   "cell_type": "code",
   "execution_count": 20,
   "metadata": {},
   "outputs": [
    {
     "name": "stdout",
     "output_type": "stream",
     "text": [
      "150\n"
     ]
    },
    {
     "data": {
      "text/plain": [
       "-0.8786943128382063"
      ]
     },
     "execution_count": 20,
     "metadata": {},
     "output_type": "execute_result"
    }
   ],
   "source": [
    "find_V1(150)"
   ]
  },
  {
   "cell_type": "code",
   "execution_count": 21,
   "metadata": {},
   "outputs": [
    {
     "name": "stdout",
     "output_type": "stream",
     "text": [
      "160.0\n",
      "160.0161\n",
      "150.37084663267447\n"
     ]
    },
    {
     "data": {
      "text/plain": [
       "150.04969230890208"
      ]
     },
     "execution_count": 21,
     "metadata": {},
     "output_type": "execute_result"
    }
   ],
   "source": [
    "from scipy.optimize import newton\n",
    "newton(find_V1,160, tol=1e-0)"
   ]
  },
  {
   "cell_type": "code",
   "execution_count": 22,
   "metadata": {},
   "outputs": [
    {
     "name": "stdout",
     "output_type": "stream",
     "text": [
      "160.0\n",
      "160.0161\n",
      "150.37084663267447\n"
     ]
    }
   ],
   "source": [
    "V_abort = newton(find_V1,160,tol=1e-0)\n",
    "\n",
    "x0 = 0\n",
    "v0 = 0\n",
    "y0 = np.array([v0,x0])\n",
    "sol_rollout = solve_ivp(rollout,[0,100],y0,rtol=1e-9,max_step=1e-3,events=[Abort])\n",
    "\n",
    "x0 = sol_rollout.y[1][-1]\n",
    "v0 = sol_rollout.y[0][-1]\n",
    "y0 = np.array([v0,x0])\n",
    "sol_brake = solve_ivp(brake,[0,40],y0,rtol=1e-9,max_step=1e-3,events=[stop])"
   ]
  },
  {
   "cell_type": "code",
   "execution_count": 23,
   "metadata": {},
   "outputs": [
    {
     "data": {
      "text/plain": [
       "1650.2630549658975"
      ]
     },
     "execution_count": 23,
     "metadata": {},
     "output_type": "execute_result"
    }
   ],
   "source": [
    "sol_brake.y[1][-1]"
   ]
  },
  {
   "cell_type": "code",
   "execution_count": 24,
   "metadata": {},
   "outputs": [
    {
     "data": {
      "text/plain": [
       "1649.1213056871618"
      ]
     },
     "execution_count": 24,
     "metadata": {},
     "output_type": "execute_result"
    }
   ],
   "source": [
    "V_abort = np.floor(V_abort)\n",
    "\n",
    "x0 = 0\n",
    "v0 = 0\n",
    "y0 = np.array([v0,x0])\n",
    "sol_rollout = solve_ivp(rollout,[0,100],y0,rtol=1e-9,max_step=1e-3,events=[Abort])\n",
    "\n",
    "x0 = sol_rollout.y[1][-1]\n",
    "v0 = sol_rollout.y[0][-1]\n",
    "y0 = np.array([v0,x0])\n",
    "sol_brake = solve_ivp(brake,[0,40],y0,rtol=1e-9,max_step=1e-3,events=[stop])\n",
    "sol_brake.y[1][-1]"
   ]
  },
  {
   "cell_type": "code",
   "execution_count": 25,
   "metadata": {},
   "outputs": [
    {
     "data": {
      "text/plain": [
       "29.923791281266695"
      ]
     },
     "execution_count": 25,
     "metadata": {},
     "output_type": "execute_result"
    }
   ],
   "source": [
    "sol_rollout.t[-1]"
   ]
  },
  {
   "cell_type": "markdown",
   "metadata": {},
   "source": [
    "# V1 Acc-Go\n",
    "## Calc Vr"
   ]
  },
  {
   "cell_type": "markdown",
   "metadata": {},
   "source": [
    "To calculate Vr, V2 is set at 1.2*Vs (the stall speed), this is to be reached at 35ft above the ground. Vr is the rotatation speed needed in order to obatain this requirement.\n",
    "So to calculate Vr we look at the climb out to 35ft\n",
    "\n",
    "Vr is rotation speed such that aircraft leaves ground at climb angle at V_LOF"
   ]
  },
  {
   "cell_type": "code",
   "execution_count": 26,
   "metadata": {
    "jupyter": {
     "source_hidden": true
    }
   },
   "outputs": [],
   "source": [
    "theta = 12"
   ]
  },
  {
   "cell_type": "code",
   "execution_count": 27,
   "metadata": {
    "collapsed": true,
    "jupyter": {
     "outputs_hidden": true,
     "source_hidden": true
    }
   },
   "outputs": [
    {
     "name": "stdout",
     "output_type": "stream",
     "text": [
      "Wall time: 0 ns\n"
     ]
    }
   ],
   "source": [
    "%%time\n",
    "\n",
    "def ScreenHeight(t,y):\n",
    "    return y[3] - 10.7\n",
    "ScreenHeight.terminal = True\n",
    "\n",
    "def f(t,y):\n",
    "    Vx = y[0]  \n",
    "    Vz = y[1]\n",
    "    X = y[2]              # extract v from array y \n",
    "    H = y[3]\n",
    "    \n",
    "    V = np.sqrt(Vx**2 + Vz**2)\n",
    "\n",
    "    dVxdt = (1/m) * ((T_L + T_R)*np.cos(np.radians(theta)) - D(V,0,theta)*np.cos(np.radians(theta)) - Lift(V,theta)*np.sin(np.radians(theta)))\n",
    "    dVzdt = (1/m) * ((T_L + T_R)*np.sin(np.radians(theta)) + Lift(V,theta)*np.cos(np.radians(theta)) - m*g - D(V,0,theta)*np.sin(np.radians(theta)))\n",
    "    dXdt = Vx\n",
    "    dHdt = Vz\n",
    "    \n",
    "    return np.array([dVxdt, dVzdt, dXdt, dHdt]) # return array"
   ]
  },
  {
   "cell_type": "code",
   "execution_count": 28,
   "metadata": {
    "jupyter": {
     "source_hidden": true
    }
   },
   "outputs": [],
   "source": [
    "def V2_search(V_t):\n",
    "    # initial conditions\n",
    "    x0 = sol_rotate.y[1][-1] # initial s\n",
    "    vz0 = 0 # initial v\n",
    "    h0 = 0\n",
    "    vx0 = V_t\n",
    "\n",
    "    # combine s and v into array y0\n",
    "    y0 = np.array([vx0,vz0,x0,h0])\n",
    "    print(y0)\n",
    "    sol_t = solve_ivp(f,[0,10],y0,rtol=1e-9,max_step = 1e-3,events=[ScreenHeight])\n",
    "    return np.sqrt(sol_t.y[0][-1]**2 + sol_t.y[1][-1]**2) - V2"
   ]
  },
  {
   "cell_type": "code",
   "execution_count": 29,
   "metadata": {
    "collapsed": true,
    "jupyter": {
     "outputs_hidden": true,
     "source_hidden": true
    }
   },
   "outputs": [
    {
     "data": {
      "text/plain": [
       "109.21780594743936"
      ]
     },
     "execution_count": 29,
     "metadata": {},
     "output_type": "execute_result"
    }
   ],
   "source": [
    "V2"
   ]
  },
  {
   "cell_type": "code",
   "execution_count": 30,
   "metadata": {
    "jupyter": {
     "source_hidden": true
    }
   },
   "outputs": [],
   "source": [
    "from scipy.optimize import newton"
   ]
  },
  {
   "cell_type": "code",
   "execution_count": 31,
   "metadata": {
    "collapsed": true,
    "jupyter": {
     "outputs_hidden": true,
     "source_hidden": true
    }
   },
   "outputs": [
    {
     "ename": "NameError",
     "evalue": "name 'sol_rotate' is not defined",
     "output_type": "error",
     "traceback": [
      "\u001b[1;31m---------------------------------------------------------------------------\u001b[0m",
      "\u001b[1;31mNameError\u001b[0m                                 Traceback (most recent call last)",
      "\u001b[1;32m<ipython-input-31-8f7a90afff20>\u001b[0m in \u001b[0;36m<module>\u001b[1;34m\u001b[0m\n\u001b[1;32m----> 1\u001b[1;33m \u001b[0mV_lof\u001b[0m \u001b[1;33m=\u001b[0m \u001b[0mnewton\u001b[0m\u001b[1;33m(\u001b[0m\u001b[0mV2_search\u001b[0m\u001b[1;33m,\u001b[0m\u001b[0mV2\u001b[0m\u001b[1;33m)\u001b[0m\u001b[1;33m\u001b[0m\u001b[1;33m\u001b[0m\u001b[0m\n\u001b[0m\u001b[0;32m      2\u001b[0m \u001b[0mV_lof\u001b[0m\u001b[1;33m\u001b[0m\u001b[1;33m\u001b[0m\u001b[0m\n",
      "\u001b[1;32m~\\Anaconda3\\lib\\site-packages\\scipy\\optimize\\zeros.py\u001b[0m in \u001b[0;36mnewton\u001b[1;34m(func, x0, fprime, args, tol, maxiter, fprime2, x1, rtol, full_output, disp)\u001b[0m\n\u001b[0;32m    312\u001b[0m             \u001b[0mp1\u001b[0m \u001b[1;33m=\u001b[0m \u001b[0mx0\u001b[0m \u001b[1;33m*\u001b[0m \u001b[1;33m(\u001b[0m\u001b[1;36m1\u001b[0m \u001b[1;33m+\u001b[0m \u001b[0meps\u001b[0m\u001b[1;33m)\u001b[0m\u001b[1;33m\u001b[0m\u001b[1;33m\u001b[0m\u001b[0m\n\u001b[0;32m    313\u001b[0m             \u001b[0mp1\u001b[0m \u001b[1;33m+=\u001b[0m \u001b[1;33m(\u001b[0m\u001b[0meps\u001b[0m \u001b[1;32mif\u001b[0m \u001b[0mp1\u001b[0m \u001b[1;33m>=\u001b[0m \u001b[1;36m0\u001b[0m \u001b[1;32melse\u001b[0m \u001b[1;33m-\u001b[0m\u001b[0meps\u001b[0m\u001b[1;33m)\u001b[0m\u001b[1;33m\u001b[0m\u001b[1;33m\u001b[0m\u001b[0m\n\u001b[1;32m--> 314\u001b[1;33m         \u001b[0mq0\u001b[0m \u001b[1;33m=\u001b[0m \u001b[0mfunc\u001b[0m\u001b[1;33m(\u001b[0m\u001b[0mp0\u001b[0m\u001b[1;33m,\u001b[0m \u001b[1;33m*\u001b[0m\u001b[0margs\u001b[0m\u001b[1;33m)\u001b[0m\u001b[1;33m\u001b[0m\u001b[1;33m\u001b[0m\u001b[0m\n\u001b[0m\u001b[0;32m    315\u001b[0m         \u001b[0mfuncalls\u001b[0m \u001b[1;33m+=\u001b[0m \u001b[1;36m1\u001b[0m\u001b[1;33m\u001b[0m\u001b[1;33m\u001b[0m\u001b[0m\n\u001b[0;32m    316\u001b[0m         \u001b[0mq1\u001b[0m \u001b[1;33m=\u001b[0m \u001b[0mfunc\u001b[0m\u001b[1;33m(\u001b[0m\u001b[0mp1\u001b[0m\u001b[1;33m,\u001b[0m \u001b[1;33m*\u001b[0m\u001b[0margs\u001b[0m\u001b[1;33m)\u001b[0m\u001b[1;33m\u001b[0m\u001b[1;33m\u001b[0m\u001b[0m\n",
      "\u001b[1;32m<ipython-input-28-08749f01891e>\u001b[0m in \u001b[0;36mV2_search\u001b[1;34m(V_t)\u001b[0m\n\u001b[0;32m      1\u001b[0m \u001b[1;32mdef\u001b[0m \u001b[0mV2_search\u001b[0m\u001b[1;33m(\u001b[0m\u001b[0mV_t\u001b[0m\u001b[1;33m)\u001b[0m\u001b[1;33m:\u001b[0m\u001b[1;33m\u001b[0m\u001b[1;33m\u001b[0m\u001b[0m\n\u001b[0;32m      2\u001b[0m     \u001b[1;31m# initial conditions\u001b[0m\u001b[1;33m\u001b[0m\u001b[1;33m\u001b[0m\u001b[1;33m\u001b[0m\u001b[0m\n\u001b[1;32m----> 3\u001b[1;33m     \u001b[0mx0\u001b[0m \u001b[1;33m=\u001b[0m \u001b[0msol_rotate\u001b[0m\u001b[1;33m.\u001b[0m\u001b[0my\u001b[0m\u001b[1;33m[\u001b[0m\u001b[1;36m1\u001b[0m\u001b[1;33m]\u001b[0m\u001b[1;33m[\u001b[0m\u001b[1;33m-\u001b[0m\u001b[1;36m1\u001b[0m\u001b[1;33m]\u001b[0m \u001b[1;31m# initial s\u001b[0m\u001b[1;33m\u001b[0m\u001b[1;33m\u001b[0m\u001b[0m\n\u001b[0m\u001b[0;32m      4\u001b[0m     \u001b[0mvz0\u001b[0m \u001b[1;33m=\u001b[0m \u001b[1;36m0\u001b[0m \u001b[1;31m# initial v\u001b[0m\u001b[1;33m\u001b[0m\u001b[1;33m\u001b[0m\u001b[0m\n\u001b[0;32m      5\u001b[0m     \u001b[0mh0\u001b[0m \u001b[1;33m=\u001b[0m \u001b[1;36m0\u001b[0m\u001b[1;33m\u001b[0m\u001b[1;33m\u001b[0m\u001b[0m\n",
      "\u001b[1;31mNameError\u001b[0m: name 'sol_rotate' is not defined"
     ]
    }
   ],
   "source": [
    "V_lof = newton(V2_search,V2)\n",
    "V_lof"
   ]
  },
  {
   "cell_type": "code",
   "execution_count": null,
   "metadata": {
    "jupyter": {
     "source_hidden": true
    }
   },
   "outputs": [],
   "source": [
    "V2_search(V_lof)"
   ]
  },
  {
   "cell_type": "markdown",
   "metadata": {
    "jupyter": {
     "source_hidden": true
    }
   },
   "source": [
    "V1, Vr, VLOF, V2"
   ]
  },
  {
   "cell_type": "code",
   "execution_count": null,
   "metadata": {
    "jupyter": {
     "source_hidden": true
    }
   },
   "outputs": [],
   "source": [
    "Lift(V_lof,theta) - m*g"
   ]
  },
  {
   "cell_type": "code",
   "execution_count": null,
   "metadata": {
    "jupyter": {
     "source_hidden": true
    }
   },
   "outputs": [],
   "source": [
    "theta"
   ]
  },
  {
   "cell_type": "code",
   "execution_count": null,
   "metadata": {
    "jupyter": {
     "source_hidden": true
    }
   },
   "outputs": [],
   "source": [
    "sol_rotate.y[0]"
   ]
  },
  {
   "cell_type": "markdown",
   "metadata": {
    "jupyter": {
     "source_hidden": true
    }
   },
   "source": [
    "V2 gives Vlof, Vlof gives Vr?"
   ]
  },
  {
   "cell_type": "markdown",
   "metadata": {},
   "source": [
    "# _"
   ]
  },
  {
   "cell_type": "markdown",
   "metadata": {},
   "source": [
    "climb angle needed so that aircraft vlof is when aircrfat leaves ground i.e. L component = W, and V2min is met at 35ft"
   ]
  },
  {
   "cell_type": "markdown",
   "metadata": {},
   "source": [
    "Vr is rotation initiated such that climb angle met at LOF"
   ]
  },
  {
   "cell_type": "markdown",
   "metadata": {},
   "source": [
    "V1 min speed needed such that takeoff can be rreached OEO"
   ]
  },
  {
   "cell_type": "markdown",
   "metadata": {},
   "source": [
    "V2 is a given at 1.2 * Vs"
   ]
  },
  {
   "cell_type": "code",
   "execution_count": 32,
   "metadata": {},
   "outputs": [],
   "source": [
    "def ScreenHeight(t,y):\n",
    "    return y[3] - 10.7\n",
    "ScreenHeight.terminal = True\n",
    "\n",
    "def f_OEI(t,y):\n",
    "    Vx = y[0]  \n",
    "    Vz = y[1]\n",
    "    X = y[2]              # extract v from array y \n",
    "    H = y[3]\n",
    "    \n",
    "    V = np.sqrt(Vx**2 + Vz**2)\n",
    "\n",
    "    dVxdt = (1/m) * ((0 + T_R)*np.cos(np.radians(theta)) - D(V,0,theta)*np.cos(np.radians(theta)) - Lift(V,theta)*np.sin(np.radians(theta)))\n",
    "    dVzdt = (1/m) * ((0 + T_R)*np.sin(np.radians(theta)) + Lift(V,theta)*np.cos(np.radians(theta)) - m*g - D(V,0,theta)*np.sin(np.radians(theta)))\n",
    "    dXdt = Vx\n",
    "    dHdt = Vz\n",
    "    \n",
    "    return np.array([dVxdt, dVzdt, dXdt, dHdt]) # return array"
   ]
  },
  {
   "cell_type": "code",
   "execution_count": 33,
   "metadata": {},
   "outputs": [
    {
     "data": {
      "text/plain": [
       "109.21780594743936"
      ]
     },
     "execution_count": 33,
     "metadata": {},
     "output_type": "execute_result"
    }
   ],
   "source": [
    "V2"
   ]
  },
  {
   "cell_type": "code",
   "execution_count": 35,
   "metadata": {},
   "outputs": [
    {
     "data": {
      "text/plain": [
       "(191.11053870593094, 98.30726111033087)"
      ]
     },
     "execution_count": 35,
     "metadata": {},
     "output_type": "execute_result"
    }
   ],
   "source": [
    "V_lof = np.sqrt((2*m*g)/(rho * S * CL(10)))\n",
    "Knots(V_lof), V_lof"
   ]
  },
  {
   "cell_type": "code",
   "execution_count": 38,
   "metadata": {},
   "outputs": [],
   "source": [
    "def climb(a):\n",
    "    # initial conditions\n",
    "    x0 = 0 # initial s\n",
    "    vz0 = 0 # initial v\n",
    "    h0 = 0\n",
    "    vx0 = np.sqrt((2*m*g)/(rho * S * CL(a)))\n",
    "\n",
    "    # combine s and v into array y0\n",
    "    y0 = np.array([vx0,vz0,x0,h0])\n",
    "    print(y0)\n",
    "    sol_t = solve_ivp(f_OEI,[0,10],y0,rtol=1e-9,max_step = 1e-3,events=[ScreenHeight])\n",
    "    return np.sqrt(sol_t.y[0][-1]**2 + sol_t.y[1][-1]**2) - V2"
   ]
  },
  {
   "cell_type": "code",
   "execution_count": 39,
   "metadata": {},
   "outputs": [
    {
     "name": "stdout",
     "output_type": "stream",
     "text": [
      "[98.30726111  0.          0.          0.        ]\n"
     ]
    },
    {
     "data": {
      "text/plain": [
       "-16.28497376669398"
      ]
     },
     "execution_count": 39,
     "metadata": {},
     "output_type": "execute_result"
    }
   ],
   "source": [
    "climb(10)"
   ]
  },
  {
   "cell_type": "code",
   "execution_count": 40,
   "metadata": {},
   "outputs": [
    {
     "name": "stdout",
     "output_type": "stream",
     "text": [
      "[99.13687296  0.          0.          0.        ]\n"
     ]
    },
    {
     "data": {
      "text/plain": [
       "-15.230786076651157"
      ]
     },
     "execution_count": 40,
     "metadata": {},
     "output_type": "execute_result"
    }
   ],
   "source": [
    "climb(9.8)"
   ]
  },
  {
   "cell_type": "code",
   "execution_count": 41,
   "metadata": {},
   "outputs": [
    {
     "name": "stdout",
     "output_type": "stream",
     "text": [
      "[96.32105109  0.          0.          0.        ]\n"
     ]
    },
    {
     "data": {
      "text/plain": [
       "-19.392329370657933"
      ]
     },
     "execution_count": 41,
     "metadata": {},
     "output_type": "execute_result"
    }
   ],
   "source": [
    "climb(10.5)"
   ]
  },
  {
   "cell_type": "code",
   "execution_count": 42,
   "metadata": {},
   "outputs": [],
   "source": [
    "from scipy.optimize import newton"
   ]
  },
  {
   "cell_type": "code",
   "execution_count": 43,
   "metadata": {},
   "outputs": [
    {
     "name": "stdout",
     "output_type": "stream",
     "text": [
      "[98.30726111  0.          0.          0.        ]\n",
      "[98.30275567  0.          0.          0.        ]\n",
      "[113.63923549   0.           0.           0.        ]\n",
      "[113.50310147   0.           0.           0.        ]\n",
      "[113.52249806   0.           0.           0.        ]\n",
      "[113.52252503   0.           0.           0.        ]\n"
     ]
    },
    {
     "data": {
      "text/plain": [
       "6.9988778039815625"
      ]
     },
     "execution_count": 43,
     "metadata": {},
     "output_type": "execute_result"
    }
   ],
   "source": [
    "newton(climb,10)"
   ]
  },
  {
   "cell_type": "code",
   "execution_count": 45,
   "metadata": {},
   "outputs": [
    {
     "name": "stdout",
     "output_type": "stream",
     "text": [
      "[98.30726111  0.          0.          0.        ]\n",
      "[98.30275567  0.          0.          0.        ]\n",
      "[113.63923549   0.           0.           0.        ]\n",
      "[113.50310147   0.           0.           0.        ]\n",
      "[113.52249806   0.           0.           0.        ]\n",
      "[113.52252503   0.           0.           0.        ]\n"
     ]
    }
   ],
   "source": [
    "climb_angle = np.round(newton(climb,10),1)\n",
    "# initial conditions\n",
    "x0 = 0 # initial s\n",
    "vz0 = 0 # initial v\n",
    "h0 = 0\n",
    "vx0 = np.sqrt((2*m*g)/(rho * S * CL(climb_angle)))\n",
    "\n",
    "# combine s and v into array y0\n",
    "y0 = np.array([vx0,vz0,x0,h0])\n",
    "sol_c = solve_ivp(f,[0,10],y0,rtol=1e-9,max_step = 1e-3,events=[ScreenHeight])"
   ]
  },
  {
   "cell_type": "code",
   "execution_count": 46,
   "metadata": {},
   "outputs": [
    {
     "data": {
      "text/plain": [
       "7.0"
      ]
     },
     "execution_count": 46,
     "metadata": {},
     "output_type": "execute_result"
    }
   ],
   "source": [
    "climb_angle"
   ]
  },
  {
   "cell_type": "code",
   "execution_count": 47,
   "metadata": {},
   "outputs": [
    {
     "data": {
      "text/plain": [
       "113.51544733068872"
      ]
     },
     "execution_count": 47,
     "metadata": {},
     "output_type": "execute_result"
    }
   ],
   "source": [
    "V_lof = np.sqrt((2*m*g)/(rho * S * CL(climb_angle)))\n",
    "V_lof"
   ]
  },
  {
   "cell_type": "code",
   "execution_count": 48,
   "metadata": {},
   "outputs": [
    {
     "data": {
      "text/plain": [
       "220.67544193368724"
      ]
     },
     "execution_count": 48,
     "metadata": {},
     "output_type": "execute_result"
    }
   ],
   "source": [
    "Knots(V_lof)"
   ]
  },
  {
   "cell_type": "markdown",
   "metadata": {},
   "source": [
    "## Vr"
   ]
  },
  {
   "cell_type": "code",
   "execution_count": null,
   "metadata": {},
   "outputs": [],
   "source": [
    "rotate_rate = 3\n",
    "\n",
    "def V_LOF(t,y):\n",
    "    return y[0] - V_lof\n",
    "V_LOF.terminal = True\n",
    "\n",
    "def rotate_OEI(t,y):\n",
    "    Vx = y[0]\n",
    "    X = y[1]\n",
    "    Alpha = y[2]\n",
    "    \n",
    "    dVxdt = (1/m) * ((0 + T_R)*np.cos(np.radians(Alpha)) - D(Vx,0,Alpha) - D_f(Vx,Alpha))\n",
    "    dXdt = Vx - Vw\n",
    "    dAlphadt = rotate_rate\n",
    "    \n",
    "    return np.array([dVxdt,dXdt,dAlphadt])"
   ]
  },
  {
   "cell_type": "code",
   "execution_count": null,
   "metadata": {
    "scrolled": true
   },
   "outputs": [],
   "source": [
    "def rotation(Vr):\n",
    "    # initial conditions\n",
    "    x0  = sol_rollout.y[1][-1] # initial s\n",
    "    vx0 = MS(Vr)\n",
    "    alpha0 = 0\n",
    "\n",
    "    # combine s and v into array y0\n",
    "    y0 = np.array([vx0,x0,alpha0])\n",
    "    print(y0)\n",
    "    sol_rot = solve_ivp(rotate_OEI,[0,40],y0,rtol=1e-9,max_step = 1e-3,events=[V_LOF])\n",
    "    return sol_rot.y[2][-1] - climb_angle\n"
   ]
  },
  {
   "cell_type": "code",
   "execution_count": null,
   "metadata": {},
   "outputs": [],
   "source": [
    "Vr = newton(rotation,190)"
   ]
  },
  {
   "cell_type": "code",
   "execution_count": null,
   "metadata": {},
   "outputs": [],
   "source": [
    "Vr"
   ]
  },
  {
   "cell_type": "code",
   "execution_count": null,
   "metadata": {},
   "outputs": [],
   "source": [
    "Knots(V_lof)"
   ]
  },
  {
   "cell_type": "code",
   "execution_count": null,
   "metadata": {},
   "outputs": [],
   "source": [
    "# initial conditions\n",
    "x0  = sol_rollout.y[1][-1] # initial s\n",
    "vx0 = MS(Vr)\n",
    "alpha0 = 0\n",
    "\n",
    "# combine s and v into array y0\n",
    "y0 = np.array([vx0,x0,alpha0])\n",
    "sol_rotate = solve_ivp(rotate_OEI,[0,40],y0,rtol=1e-9,max_step = 1e-3,events=[V_LOF])"
   ]
  },
  {
   "cell_type": "code",
   "execution_count": null,
   "metadata": {
    "scrolled": true
   },
   "outputs": [],
   "source": [
    "plt.plot(sol_rotate.t,sol_rotate.y[0]) # vx\n",
    "plt.show()\n",
    "plt.plot(sol_rotate.t,sol_rotate.y[1]) # x\n",
    "plt.show()\n",
    "plt.plot(sol_rotate.t,sol_rotate.y[2]) # alpha\n",
    "plt.show()"
   ]
  },
  {
   "cell_type": "markdown",
   "metadata": {},
   "source": [
    "## V1"
   ]
  },
  {
   "cell_type": "markdown",
   "metadata": {},
   "source": [
    "min speed needed to safely continue takeoff, i.e what speed needed to continue with only one engine left\n",
    "i have Vr, V2, angle to climb out to obstacle with OEI\n",
    "\n",
    "speed needed to be able to get into the air before end of runway\n",
    "\n",
    "V1 <= Vr"
   ]
  },
  {
   "cell_type": "markdown",
   "metadata": {},
   "source": [
    "If AEO take-off run length is greater than runway available, runway airfield not suitable, different airport or weight required.\n",
    "same whill apply if V1 > Vr"
   ]
  },
  {
   "cell_type": "markdown",
   "metadata": {},
   "source": [
    "What speed is needed so that possible to accelerate upto Vr, rotate and climb before end of runway\n",
    "min speed therefore max limit (total length equals total available"
   ]
  },
  {
   "cell_type": "markdown",
   "metadata": {},
   "source": [
    " engine fails at V1, pick a speed for V1, attempt the takeoff if run too long increase V1, repeat until within length of runway."
   ]
  },
  {
   "cell_type": "code",
   "execution_count": null,
   "metadata": {},
   "outputs": [],
   "source": [
    "V1 = 150\n",
    "\n",
    "rotate_rate = 5\n",
    "\n",
    "#Speeds\n",
    "#   Vr\n",
    "#   Vlof\n",
    "\n",
    "#Stages\n",
    "#  Accel to V1 (AEO)\n",
    "def toV1(t,y):\n",
    "    Vx = y[0]\n",
    "    X = y[1]\n",
    "    \n",
    "    dVxdt = (1/m) * ((T_L + T_R) - D(Vx,0,0) - D_f(Vx,0))\n",
    "    dXdt = Vx - Vw\n",
    "    \n",
    "    return np.array([dVxdt,dXdt])\n",
    "\n",
    "#  Accel to Vr (OEI)\n",
    "def V1Vr(t,y):\n",
    "    Vx = y[0]\n",
    "    X = y[1]\n",
    "    \n",
    "    dVxdt = (1/m) * ((0 + T_R) - D(Vx,0,0) - D_f(Vx,0))\n",
    "    dXdt = Vx - Vw\n",
    "    \n",
    "    return np.array([dVxdt,dXdt])\n",
    "\n",
    "#  Rotation (OEI)\n",
    "def rotate(t,y):\n",
    "    Vx = y[0]\n",
    "    X = y[1]\n",
    "    Alpha = y[2]\n",
    "    \n",
    "    dVxdt = (1/m) * ((0 + T_R)*np.cos(np.radians(Alpha)) - D(Vx,0,Alpha) - D_f(Vx,Alpha))\n",
    "    dAlphadt = rotate_rate\n",
    "    dXdt = Vx - Vw\n",
    "    \n",
    "    return np.array([dVxdt,dXdt,dAlphadt])\n",
    "\n",
    "#  Climb (OEI)\n",
    "def climb(t,y):\n",
    "    Vx = y[0]  \n",
    "    Vz = y[1]\n",
    "    X = y[2]               \n",
    "    H = y[3]\n",
    "    \n",
    "    V = np.sqrt(Vx**2 + Vz**2)\n",
    "\n",
    "    dVxdt = (1/m) * ((0 + T_R)*np.cos(np.radians(theta)) - D(V,0,theta)*np.cos(np.radians(theta)) - Lift(V,theta)*np.sin(np.radians(theta)))\n",
    "    dVzdt = (1/m) * ((0 + T_R)*np.sin(np.radians(theta)) + Lift(V,theta)*np.cos(np.radians(theta)) - m*g - D(V,0,theta)*np.sin(np.radians(theta)))\n",
    "    dXdt = Vx - Vw\n",
    "    dHdt = Vz\n",
    "    \n",
    "    return np.array([dVxdt, dVzdt, dXdt, dHdt]) \n",
    "\n",
    "#Constraints\n",
    "#  V1\n",
    "def set_V1(t,y):\n",
    "    Vx = y[0]\n",
    "    return Vx - MS(V1)\n",
    "set_V1.terminal = True\n",
    "\n",
    "#  Vr\n",
    "def set_Vr(t,y):\n",
    "    Vx = y[0]\n",
    "    return Vx - MS(Vr)\n",
    "set_Vr.terminal = True\n",
    "\n",
    "#  Vlof\n",
    "def V_LOF(t,y):\n",
    "    return y[0] - V_lof\n",
    "V_LOF.terminal = True\n",
    "\n",
    "#  Screen Height (35ft)\n",
    "def ScreenHeight(t,y):\n",
    "    return y[3] - 10.7\n",
    "ScreenHeight.terminal = True\n",
    "\n",
    "#Calculations\n",
    "#  upto V1\n",
    "print('V1')\n",
    "x0 = 0\n",
    "v0 = 0\n",
    "y0 = np.array([v0,x0])\n",
    "\n",
    "sol_V1 = solve_ivp(toV1,[0,50],y0,rtol=1e-9,max_step=1e-3,events=[set_V1])\n",
    "\n",
    "#  V1 to Vr\n",
    "if Vr = V1:\n",
    "    print('Vr = V1')\n",
    "    sol_Vr = sol_V1\n",
    "else:\n",
    "    print('V1Vr')\n",
    "    x0 = sol_V1.y[1][-1]\n",
    "    v0 = sol_V1.y[0][-1]\n",
    "    y0 = np.array([v0,x0])\n",
    "\n",
    "    sol_Vr = solve_ivp(V1Vr,[0,50],y0,rtol=1e-9,max_step=1e-3,events=[set_Vr])\n",
    "\n",
    "#  Rotation (Vr to Vlof)\n",
    "print('rotate')\n",
    "x0  = sol_Vr.y[1][-1]\n",
    "vx0 = sol_Vr.y[0][-1]\n",
    "alpha0 = 0\n",
    "y0 = np.array([vx0,x0,alpha0])\n",
    "\n",
    "sol_rotate = solve_ivp(rotate,[0,20],y0,rtol=1e-9,max_step = 1e-3,events=[V_LOF])\n",
    "\n",
    "#  Climb (Vlof to V2)\n",
    "print('climb')\n",
    "alpha = theta = sol_rotate.y[2][-1]\n",
    "\n",
    "x0 = sol_rotate.y[1][-1]\n",
    "vx0 = sol_rotate.y[0][-1]\n",
    "vz0 = 0\n",
    "h0 = 0\n",
    "y0 = np.array([vx0,vz0,x0,h0])\n",
    "\n",
    "sol_LOF = solve_ivp(climb,[0,40],y0,rtol=1e-9,max_step = 1e-3,events=[ScreenHeight])"
   ]
  },
  {
   "cell_type": "code",
   "execution_count": null,
   "metadata": {},
   "outputs": [],
   "source": [
    "sol_V1.y[0][-1], sol_V1.y[1][-1]"
   ]
  },
  {
   "cell_type": "code",
   "execution_count": null,
   "metadata": {},
   "outputs": [],
   "source": [
    "sol_Vr.y[0][-1], sol_Vr.y[1][-1]"
   ]
  },
  {
   "cell_type": "code",
   "execution_count": null,
   "metadata": {},
   "outputs": [],
   "source": [
    "sol_VrVlof.y[0][-1], sol_VrVlof.y[1][-1], sol_VrVlof.y[2][-1]"
   ]
  },
  {
   "cell_type": "code",
   "execution_count": null,
   "metadata": {},
   "outputs": [],
   "source": []
  }
 ],
 "metadata": {
  "kernelspec": {
   "display_name": "Python 3",
   "language": "python",
   "name": "python3"
  },
  "language_info": {
   "codemirror_mode": {
    "name": "ipython",
    "version": 3
   },
   "file_extension": ".py",
   "mimetype": "text/x-python",
   "name": "python",
   "nbconvert_exporter": "python",
   "pygments_lexer": "ipython3",
   "version": "3.7.3"
  }
 },
 "nbformat": 4,
 "nbformat_minor": 4
}
