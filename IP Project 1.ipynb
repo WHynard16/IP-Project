{
 "cells": [
  {
   "cell_type": "markdown",
   "id": "f413c5d7",
   "metadata": {},
   "source": [
    "# IP Project"
   ]
  },
  {
   "cell_type": "code",
   "execution_count": 1,
   "id": "511bc358",
   "metadata": {},
   "outputs": [],
   "source": [
    "import pandas as pd\n",
    "import matplotlib.pyplot as plt\n",
    "\n",
    "plt.rcParams[\"figure.figsize\"]=15,10 #Set plot size\n",
    "plt.rcParams.update({'font.size': 16}) #set plot size font\n",
    "plt.rcParams.update({\"axes.grid\" : True, \"grid.color\": \"lightgrey\"}) #Add grid lines to plot"
   ]
  },
  {
   "cell_type": "markdown",
   "id": "b6e51cc7",
   "metadata": {},
   "source": [
    "### Black Box"
   ]
  },
  {
   "cell_type": "code",
   "execution_count": 2,
   "id": "482ea82e",
   "metadata": {},
   "outputs": [
    {
     "data": {
      "text/html": [
       "<div>\n",
       "<style scoped>\n",
       "    .dataframe tbody tr th:only-of-type {\n",
       "        vertical-align: middle;\n",
       "    }\n",
       "\n",
       "    .dataframe tbody tr th {\n",
       "        vertical-align: top;\n",
       "    }\n",
       "\n",
       "    .dataframe thead th {\n",
       "        text-align: right;\n",
       "    }\n",
       "</style>\n",
       "<table border=\"1\" class=\"dataframe\">\n",
       "  <thead>\n",
       "    <tr style=\"text-align: right;\">\n",
       "      <th></th>\n",
       "      <th>t</th>\n",
       "      <th>V_ms-1</th>\n",
       "      <th>V_knots</th>\n",
       "      <th>Dist</th>\n",
       "    </tr>\n",
       "  </thead>\n",
       "  <tbody>\n",
       "  </tbody>\n",
       "</table>\n",
       "</div>"
      ],
      "text/plain": [
       "Empty DataFrame\n",
       "Columns: [t, V_ms-1, V_knots, Dist]\n",
       "Index: []"
      ]
     },
     "execution_count": 2,
     "metadata": {},
     "output_type": "execute_result"
    }
   ],
   "source": [
    "cols = ['t','V_ms-1','V_knots','Dist']\n",
    "BB = pd.DataFrame(columns = cols)\n",
    "BB"
   ]
  },
  {
   "cell_type": "markdown",
   "id": "fd514a8b",
   "metadata": {},
   "source": [
    "### Other Functions"
   ]
  },
  {
   "cell_type": "code",
   "execution_count": 3,
   "id": "76be6571",
   "metadata": {},
   "outputs": [],
   "source": [
    "def Knots(MS):\n",
    "    return MS / 0.5144\n",
    "\n",
    "def MS(Knots):\n",
    "    return Knots * 0.5144"
   ]
  },
  {
   "cell_type": "markdown",
   "id": "0485a8b3",
   "metadata": {},
   "source": [
    "#### Aircraft Parameters"
   ]
  },
  {
   "cell_type": "code",
   "execution_count": 4,
   "id": "5356de11",
   "metadata": {},
   "outputs": [],
   "source": [
    "mass = 79000\n",
    "AbortSpeed = 120 #In Knots\n",
    "\n",
    "T1 = 106.8 * 1000 #Engine Thrust A320-200 with 2* CFM International LEAP 1A at T/O power (106.80 kN)    ~~TBC~~\n",
    "T2 = 106.8 * 1000\n",
    "\n",
    "Decel = 6 #Deceleration of Max Brakes 6ms-2  ~~TBC~~"
   ]
  },
  {
   "cell_type": "code",
   "execution_count": 5,
   "id": "5ee06a06",
   "metadata": {},
   "outputs": [],
   "source": [
    "V = 0\n",
    "t = 0\n",
    "t_step = 1e-4"
   ]
  },
  {
   "cell_type": "markdown",
   "id": "acf96db6",
   "metadata": {},
   "source": [
    "## Ground Roll"
   ]
  },
  {
   "cell_type": "markdown",
   "id": "7498e7cb",
   "metadata": {},
   "source": [
    "Accelerating along Runway with CONSTANT Thrust\n"
   ]
  },
  {
   "cell_type": "code",
   "execution_count": 6,
   "id": "1bb6b3ef",
   "metadata": {},
   "outputs": [],
   "source": [
    "L = 0  # Ground Roll (Zero Lift) {for now}\n",
    "D_i = 0  # Zero Lift -> Drag = 0   {for now}\n",
    "mu = 0  # Zero Friction {for now}\n",
    "W = 9.81 * mass\n",
    "D_f = mu * (L - W)    #Friction Drag\n",
    "\n",
    "# N2 : F = m a\n",
    "a = (T1 + T2 - D_i - D_f)/mass"
   ]
  },
  {
   "cell_type": "code",
   "execution_count": null,
   "id": "87239128",
   "metadata": {},
   "outputs": [],
   "source": [
    "%%time\n",
    "\n",
    "L = 0  # Ground Roll (Zero Lift) {for now}\n",
    "D_i = 0  # Zero Lift -> Drag = 0   {for now}\n",
    "mu = 0  # Zero Friction {for now}\n",
    "W = 9.81 * mass\n",
    "D_f = mu * (L - W)    #Friction Drag\n",
    "\n",
    "# N2 : F = m a\n",
    "a = (T1 + T2 - D_i - D_f)/mass\n",
    "\n",
    "#Set initial condition\n",
    "V = 0\n",
    "t = 0\n",
    "s = 0\n",
    "\n",
    "#Calculate the acceleration stage\n",
    "while Knots(V) < AbortSpeed:\n",
    "    V += a * t_step\n",
    "    s += V*t_step + 0.5*a*t_step**2\n",
    "    \n",
    "    DataRow = pd.DataFrame({'t': [t], 'V_ms-1': [V], 'V_knots': [Knots(V)],'Dist':[s]})\n",
    "    BB = BB.append(DataRow)\n",
    "\n",
    "    t += t_step\n",
    "        \n",
    "print('Run aborted at {:.6f}'.format(t))"
   ]
  },
  {
   "cell_type": "code",
   "execution_count": null,
   "id": "e43f5c2a",
   "metadata": {},
   "outputs": [],
   "source": [
    "BB"
   ]
  },
  {
   "cell_type": "code",
   "execution_count": null,
   "id": "f615bfd6",
   "metadata": {},
   "outputs": [],
   "source": [
    "%%time\n",
    "\n",
    "#Calculate the braking stage\n",
    "while V > 0:\n",
    "    V -= Decel * t_step\n",
    "    if V < 0:\n",
    "        V = 0\n",
    "    s += V*t_step + 0.5*a*t_step**2\n",
    "    \n",
    "    DataRow = pd.DataFrame({'t': [t], 'V_ms-1': [V], 'V_knots': [Knots(V)],'Dist':[s]})\n",
    "    BB = BB.append(DataRow)\n",
    "\n",
    "    t += t_step\n",
    "\n",
    "#Output time that aircraft stops and distance travelled\n",
    "print('Run stopped at {:.6f}'.format(t))\n",
    "print('Run length     {:.6f}'.format(BB.tail(1)['Dist'][0]))"
   ]
  },
  {
   "cell_type": "code",
   "execution_count": null,
   "id": "501d0ef8",
   "metadata": {},
   "outputs": [],
   "source": [
    "BB"
   ]
  },
  {
   "cell_type": "code",
   "execution_count": null,
   "id": "e119ebe4",
   "metadata": {},
   "outputs": [],
   "source": [
    "print('Run stopped at {:.6f}'.format(t))\n",
    "print('Run length     {:.6f}'.format(BB.tail(1)['Dist'][0]))"
   ]
  },
  {
   "cell_type": "code",
   "execution_count": null,
   "id": "ddd40cf7",
   "metadata": {},
   "outputs": [],
   "source": [
    "plt.plot(BB['t'],BB['V_ms-1'])\n",
    "plt.grid()"
   ]
  },
  {
   "cell_type": "code",
   "execution_count": null,
   "id": "b057ee06",
   "metadata": {},
   "outputs": [],
   "source": [
    "plt.plot(BB['t'],BB['Dist'])\n",
    "plt.grid()"
   ]
  },
  {
   "cell_type": "markdown",
   "id": "380e27a2",
   "metadata": {},
   "source": [
    "### Notes to self\n",
    " - Speed of code execution slow and increasing with smaller t_step\n",
    "    - Swap to use of standard numpy array or look at Vaex (https://vaex.io/docs/index.html)\n",
    " - Use of ODEs rather than euler stepping\n",
    " "
   ]
  },
  {
   "cell_type": "code",
   "execution_count": null,
   "id": "dfe08762",
   "metadata": {},
   "outputs": [],
   "source": []
  }
 ],
 "metadata": {
  "kernelspec": {
   "display_name": "Python 3 (ipykernel)",
   "language": "python",
   "name": "python3"
  },
  "language_info": {
   "codemirror_mode": {
    "name": "ipython",
    "version": 3
   },
   "file_extension": ".py",
   "mimetype": "text/x-python",
   "name": "python",
   "nbconvert_exporter": "python",
   "pygments_lexer": "ipython3",
   "version": "3.8.8"
  }
 },
 "nbformat": 4,
 "nbformat_minor": 5
}
